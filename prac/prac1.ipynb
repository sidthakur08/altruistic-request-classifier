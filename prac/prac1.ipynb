{
 "cells": [
  {
   "cell_type": "code",
   "execution_count": 2,
   "id": "815a0ba9",
   "metadata": {},
   "outputs": [],
   "source": [
    "PATH = '/Users/siddhantthakur/pizza req/'\n",
    "\n",
    "import json\n",
    "import matplotlib.pyplot as plt\n",
    "import pandas as pd\n",
    "import nltk"
   ]
  },
  {
   "cell_type": "code",
   "execution_count": 69,
   "id": "33942d24",
   "metadata": {},
   "outputs": [],
   "source": [
    "with open(PATH + 'pizza_request_dataset/pizza_request_dataset.json', 'r') as f:\n",
    "    data = json.load(f)"
   ]
  },
  {
   "cell_type": "code",
   "execution_count": 70,
   "id": "21620f33",
   "metadata": {},
   "outputs": [
    {
     "data": {
      "text/plain": [
       "5671"
      ]
     },
     "execution_count": 70,
     "metadata": {},
     "output_type": "execute_result"
    }
   ],
   "source": [
    "len(data)"
   ]
  },
  {
   "cell_type": "code",
   "execution_count": 71,
   "id": "ccaecfc3",
   "metadata": {
    "scrolled": true
   },
   "outputs": [
    {
     "data": {
      "text/plain": [
       "['giver_username_if_known',\n",
       " 'in_test_set',\n",
       " 'number_of_downvotes_of_request_at_retrieval',\n",
       " 'number_of_upvotes_of_request_at_retrieval',\n",
       " 'post_was_edited',\n",
       " 'request_id',\n",
       " 'request_number_of_comments_at_retrieval',\n",
       " 'request_text',\n",
       " 'request_text_edit_aware',\n",
       " 'request_title',\n",
       " 'requester_account_age_in_days_at_request',\n",
       " 'requester_account_age_in_days_at_retrieval',\n",
       " 'requester_days_since_first_post_on_raop_at_request',\n",
       " 'requester_days_since_first_post_on_raop_at_retrieval',\n",
       " 'requester_number_of_comments_at_request',\n",
       " 'requester_number_of_comments_at_retrieval',\n",
       " 'requester_number_of_comments_in_raop_at_request',\n",
       " 'requester_number_of_comments_in_raop_at_retrieval',\n",
       " 'requester_number_of_posts_at_request',\n",
       " 'requester_number_of_posts_at_retrieval',\n",
       " 'requester_number_of_posts_on_raop_at_request',\n",
       " 'requester_number_of_posts_on_raop_at_retrieval',\n",
       " 'requester_number_of_subreddits_at_request',\n",
       " 'requester_received_pizza',\n",
       " 'requester_subreddits_at_request',\n",
       " 'requester_upvotes_minus_downvotes_at_request',\n",
       " 'requester_upvotes_minus_downvotes_at_retrieval',\n",
       " 'requester_upvotes_plus_downvotes_at_request',\n",
       " 'requester_upvotes_plus_downvotes_at_retrieval',\n",
       " 'requester_user_flair',\n",
       " 'requester_username',\n",
       " 'unix_timestamp_of_request',\n",
       " 'unix_timestamp_of_request_utc']"
      ]
     },
     "execution_count": 71,
     "metadata": {},
     "output_type": "execute_result"
    }
   ],
   "source": [
    "sorted(data[0].keys())"
   ]
  },
  {
   "cell_type": "code",
   "execution_count": 72,
   "id": "c2c428e6",
   "metadata": {},
   "outputs": [
    {
     "name": "stdout",
     "output_type": "stream",
     "text": [
      "Average Success Rate 24.634103332745546\n"
     ]
    }
   ],
   "source": [
    "success = [d['requester_received_pizza'] for d in data]\n",
    "print(\"Average Success Rate\",str(sum(success)/len(success)*100))\n",
    "\n",
    "#imbalanced dataset"
   ]
  },
  {
   "cell_type": "raw",
   "id": "5fd4ac7a",
   "metadata": {},
   "source": [
    "need\n",
    "\n",
    "MODEL 1 (no knn or svm)\n",
    "sparse_data_from_(request_title + request_text_edit_aware) ~ requester_received_pizza\n",
    "\n",
    "MODEL 2\n",
    "1. prob_from_model_1\n",
    "2. number_of_upvotes_of_request_at_retrieval - number_of_downvotes_of_request_at_retrieval\n",
    "3. requester_account_age_in_days_at_request\n",
    "4. length --> (len(request_text_edit_aware))\n",
    "5. request_number_of_comments_at_retrieval\n",
    "6. maybe sentiment based feature?\n",
    "\n",
    "    ~ requester_received_pizza"
   ]
  },
  {
   "cell_type": "code",
   "execution_count": 73,
   "id": "64981efd",
   "metadata": {
    "collapsed": true
   },
   "outputs": [
    {
     "data": {
      "text/plain": [
       "{'giver_username_if_known': 'N/A',\n",
       " 'in_test_set': True,\n",
       " 'number_of_downvotes_of_request_at_retrieval': 4,\n",
       " 'number_of_upvotes_of_request_at_retrieval': 33,\n",
       " 'post_was_edited': False,\n",
       " 'request_id': 't3_pcmhh',\n",
       " 'request_number_of_comments_at_retrieval': 1,\n",
       " 'request_text': \"So, yes. We both work retail to make ends meet, and normally this works out for us, but given that it's early in the year and retail money sucks, we were budgeted to just barely scrape by. Now, with this development, I had to use my last $20 for her Metro fare so she can get to work. That was gonna go towards PB sammiches. Whoops.\\n\\nThis all seems like a sob story more worthy of the pantry or assistance, but it's no life or death situation. Reddit-flavored pizza would brighten the week for us till we get paid on Friday, but we'll still be around otherwise.\",\n",
       " 'request_text_edit_aware': \"So, yes. We both work retail to make ends meet, and normally this works out for us, but given that it's early in the year and retail money sucks, we were budgeted to just barely scrape by. Now, with this development, I had to use my last $20 for her Metro fare so she can get to work. That was gonna go towards PB sammiches. Whoops.\\n\\nThis all seems like a sob story more worthy of the pantry or assistance, but it's no life or death situation. Reddit-flavored pizza would brighten the week for us till we get paid on Friday, but we'll still be around otherwise.\",\n",
       " 'request_title': '[Request] Girlfriend had her wallet stolen, I gave her the last of my money for Metro fare to work. Our bellies rattle for pizza tonight. Greenbelt, MD.',\n",
       " 'requester_account_age_in_days_at_request': 593.5872569444444,\n",
       " 'requester_account_age_in_days_at_retrieval': 1262.812997685185,\n",
       " 'requester_days_since_first_post_on_raop_at_request': 0.0,\n",
       " 'requester_days_since_first_post_on_raop_at_retrieval': 669.2257407407408,\n",
       " 'requester_number_of_comments_at_request': 0,\n",
       " 'requester_number_of_comments_at_retrieval': 999,\n",
       " 'requester_number_of_comments_in_raop_at_request': 0,\n",
       " 'requester_number_of_comments_in_raop_at_retrieval': 0,\n",
       " 'requester_number_of_posts_at_request': 225,\n",
       " 'requester_number_of_posts_at_retrieval': 303,\n",
       " 'requester_number_of_posts_on_raop_at_request': 0,\n",
       " 'requester_number_of_posts_on_raop_at_retrieval': 1,\n",
       " 'requester_number_of_subreddits_at_request': 45,\n",
       " 'requester_received_pizza': False,\n",
       " 'requester_subreddits_at_request': ['AdviceAnimals',\n",
       "  'AskReddit',\n",
       "  'DAE',\n",
       "  'DCJobs',\n",
       "  'Design',\n",
       "  'IAmA',\n",
       "  'MensRights',\n",
       "  'Minecraft',\n",
       "  'Music',\n",
       "  'Random_Acts_Of_Pizza',\n",
       "  'WTF',\n",
       "  'amiugly',\n",
       "  'askscience',\n",
       "  'autism',\n",
       "  'circlejerk',\n",
       "  'conspiracy',\n",
       "  'creepy',\n",
       "  'entertainment',\n",
       "  'facepalm',\n",
       "  'fashion',\n",
       "  'firstworldproblems',\n",
       "  'ftwhsi',\n",
       "  'funny',\n",
       "  'gaming',\n",
       "  'gardening',\n",
       "  'gonewild',\n",
       "  'grammar',\n",
       "  'linux',\n",
       "  'listentothis',\n",
       "  'photography',\n",
       "  'pics',\n",
       "  'r4r',\n",
       "  'reddit.com',\n",
       "  'reportthespammers',\n",
       "  'sex',\n",
       "  'skyrim',\n",
       "  'spacedicks',\n",
       "  'techsupport',\n",
       "  'todayilearned',\n",
       "  'treecomics',\n",
       "  'trees',\n",
       "  'videos',\n",
       "  'washingtondc',\n",
       "  'wikipedia',\n",
       "  'worldnews'],\n",
       " 'requester_upvotes_minus_downvotes_at_request': 4371,\n",
       " 'requester_upvotes_minus_downvotes_at_retrieval': 25988,\n",
       " 'requester_upvotes_plus_downvotes_at_request': 24961,\n",
       " 'requester_upvotes_plus_downvotes_at_retrieval': 84098,\n",
       " 'requester_user_flair': None,\n",
       " 'requester_username': 'mynameispaulsimon',\n",
       " 'unix_timestamp_of_request': 1328496622.0,\n",
       " 'unix_timestamp_of_request_utc': 1328496622.0}"
      ]
     },
     "execution_count": 73,
     "metadata": {},
     "output_type": "execute_result"
    }
   ],
   "source": [
    "data[5004]"
   ]
  },
  {
   "cell_type": "code",
   "execution_count": 78,
   "id": "517f7e71",
   "metadata": {},
   "outputs": [],
   "source": [
    "for d in data:\n",
    "    d['upvotes_minus_downvotes'] = d['number_of_upvotes_of_request_at_retrieval'] - d['number_of_downvotes_of_request_at_retrieval']"
   ]
  },
  {
   "cell_type": "code",
   "execution_count": null,
   "id": "7ba210be",
   "metadata": {},
   "outputs": [],
   "source": []
  }
 ],
 "metadata": {
  "kernelspec": {
   "display_name": "Python 3 (ipykernel)",
   "language": "python",
   "name": "python3"
  },
  "language_info": {
   "codemirror_mode": {
    "name": "ipython",
    "version": 3
   },
   "file_extension": ".py",
   "mimetype": "text/x-python",
   "name": "python",
   "nbconvert_exporter": "python",
   "pygments_lexer": "ipython3",
   "version": "3.8.2"
  }
 },
 "nbformat": 4,
 "nbformat_minor": 5
}
