{
 "cells": [
  {
   "cell_type": "code",
   "execution_count": null,
   "id": "815a0ba9",
   "metadata": {},
   "outputs": [],
   "source": [
    "PATH = '/Users/siddhantthakur/pizza req/'\n",
    "\n",
    "from tqdm import tqdm\n",
    "import json\n",
    "import pandas as pd\n",
    "import numpy as np\n",
    "from statistics import mean\n",
    "from prettytable import PrettyTable\n",
    "\n",
    "import matplotlib.pyplot as plt\n",
    "import shap\n",
    "\n",
    "import nltk\n",
    "from nltk.tokenize import regexp_tokenize\n",
    "from nltk.corpus import stopwords\n",
    "from nltk.stem import WordNetLemmatizer\n",
    "import string\n",
    "import re\n",
    "\n",
    "from sklearn.linear_model import LogisticRegression\n",
    "from sklearn.ensemble import RandomForestClassifier\n",
    "from sklearn.naive_bayes import GaussianNB, MultinomialNB\n",
    "from sklearn.svm import SVC\n",
    "\n",
    "from sklearn.feature_extraction.text import CountVectorizer, TfidfVectorizer\n",
    "from sklearn.model_selection import train_test_split, StratifiedKFold, RandomizedSearchCV, GridSearchCV\n",
    "from sklearn.metrics import confusion_matrix, accuracy_score, f1_score, precision_score, recall_score, roc_auc_score\n",
    "\n",
    "from gensim.models import KeyedVectors\n",
    "from gensim.models.doc2vec import Doc2Vec, TaggedDocument\n",
    "\n",
    "import warnings\n",
    "warnings.filterwarnings(\"ignore\")\n",
    "\n",
    "#from IPython.core.display import display, HTML\n",
    "#display(HTML(\"<style>.container { width:80% !important; }</style>\"))\n",
    "\n",
    "np.set_printoptions(suppress=True)\n",
    "\n",
    "RANDOM_STATE = 4"
   ]
  },
  {
   "cell_type": "code",
   "execution_count": null,
   "id": "df2cf4ce",
   "metadata": {},
   "outputs": [],
   "source": [
    "# certificate verification fail\n",
    "\n",
    "import ssl\n",
    "\n",
    "try:\n",
    "    _create_unverified_https_context = ssl._create_unverified_context\n",
    "except AttributeError:\n",
    "    pass\n",
    "else:\n",
    "    ssl._create_default_https_context = _create_unverified_https_context"
   ]
  },
  {
   "cell_type": "code",
   "execution_count": null,
   "id": "5e85027b",
   "metadata": {},
   "outputs": [],
   "source": [
    "nltk.download('stopwords')\n",
    "nltk.download('wordnet')\n",
    "nltk.download('omw-1.4')"
   ]
  },
  {
   "cell_type": "code",
   "execution_count": null,
   "id": "33942d24",
   "metadata": {},
   "outputs": [],
   "source": [
    "with open(PATH + 'pizza_request_dataset/pizza_request_dataset.json', 'r') as f:\n",
    "    data = json.load(f)"
   ]
  },
  {
   "cell_type": "code",
   "execution_count": null,
   "id": "21620f33",
   "metadata": {},
   "outputs": [],
   "source": [
    "len(data)"
   ]
  },
  {
   "cell_type": "code",
   "execution_count": null,
   "id": "ccaecfc3",
   "metadata": {
    "scrolled": false
   },
   "outputs": [],
   "source": [
    "sorted(data[0].keys())"
   ]
  },
  {
   "cell_type": "code",
   "execution_count": null,
   "id": "c2c428e6",
   "metadata": {},
   "outputs": [],
   "source": [
    "success = [d['requester_received_pizza'] for d in data]\n",
    "print(\"Average Success Rate\",str(sum(success)/len(success)*100))"
   ]
  },
  {
   "cell_type": "raw",
   "id": "5fd4ac7a",
   "metadata": {},
   "source": [
    "need\n",
    "\n",
    "MODEL 1 (no knn or svm)\n",
    "sparse_data_from_(request_title + request_text_edit_aware) ~ requester_received_pizza\n",
    "\n",
    "MODEL 2\n",
    "1. prob_from_model_1\n",
    "2. number_of_upvotes_of_request_at_retrieval - number_of_downvotes_of_request_at_retrieval\n",
    "3. requester_account_age_in_days_at_request\n",
    "4. length --> (len(request_text_edit_aware))\n",
    "5. request_number_of_comments_at_retrieval\n",
    "6. image/link available (evidence)\n",
    "\n",
    "    ~ requester_received_pizza"
   ]
  },
  {
   "cell_type": "code",
   "execution_count": null,
   "id": "517f7e71",
   "metadata": {},
   "outputs": [],
   "source": [
    "for d in data:\n",
    "    d['upvotes_minus_downvotes'] = d['number_of_upvotes_of_request_at_retrieval'] - d['number_of_downvotes_of_request_at_retrieval']\n",
    "\n",
    "for d in data:\n",
    "    d['final_request_text'] = d['request_title'] + \" \" + d['request_text_edit_aware']"
   ]
  },
  {
   "cell_type": "code",
   "execution_count": null,
   "id": "907a4aa0",
   "metadata": {
    "scrolled": true
   },
   "outputs": [],
   "source": [
    "data[0]"
   ]
  },
  {
   "cell_type": "code",
   "execution_count": null,
   "id": "ca43261e",
   "metadata": {},
   "outputs": [],
   "source": [
    "df = pd.json_normalize(data)\n",
    "df['requester_received_pizza'] = df['requester_received_pizza'].astype(int)\n",
    "df = df.sample(frac=1).reset_index(drop=True)\n",
    "df.head()"
   ]
  },
  {
   "cell_type": "code",
   "execution_count": null,
   "id": "bb52904b",
   "metadata": {},
   "outputs": [],
   "source": [
    "df['requester_received_pizza'].isna().sum()"
   ]
  },
  {
   "cell_type": "code",
   "execution_count": null,
   "id": "ce7bd66f",
   "metadata": {},
   "outputs": [],
   "source": [
    "# text preprocessing\n",
    "stopwords_eng = stopwords.words('english')\n",
    "lemmatizer = WordNetLemmatizer()\n",
    "\n",
    "def process_text(text):\n",
    "    text = text.replace(\"\\n\",\" \").replace(\"\\r\",\" \")\n",
    "    text = re.sub(r'“', \" '' \", text)\n",
    "    text = re.sub(r'”', \" '' \", text)\n",
    "    text = re.sub(r'\"', \" '' \", text)\n",
    "    text = re.sub(r'(\\S)(\\'\\')', r'\\1 \\2 ', text)\n",
    "    text = re.sub(r\"n\\'t\", \" not\", text)\n",
    "    text = re.sub(r\"\\'re\", \" are\", text)\n",
    "    text = re.sub(r\"\\'s\", \" is\", text)\n",
    "    text = re.sub(r\"\\'d\", \" would\", text)\n",
    "    text = re.sub(r\"\\'ll\", \" will\", text)\n",
    "    text = re.sub(r\"\\'t\", \" not\", text)\n",
    "    text = re.sub(r\"\\'ve\", \" have\", text)\n",
    "    text = re.sub(r\"\\'m\", \" am\", text)\n",
    "    \n",
    "    punc_list = '!\"#$%()*+,-./:;<=>?@^_{|}~[]'\n",
    "    t = str.maketrans(dict.fromkeys(punc_list,\" \"))\n",
    "    text = text.translate(t)\n",
    "    \n",
    "    t = str.maketrans(dict.fromkeys(\"'`\",\"\"))\n",
    "    text = text.translate(t)\n",
    "    \n",
    "    text = text.lower()\n",
    "    \n",
    "    tokens = regexp_tokenize(text,pattern='\\s+',gaps=True)\n",
    "    cleaned_tokens = []\n",
    "    \n",
    "    for t in tokens:\n",
    "        if t not in stopwords_eng:\n",
    "            l = lemmatizer.lemmatize(t)\n",
    "            cleaned_tokens.append(l)\n",
    "    \n",
    "    return cleaned_tokens"
   ]
  },
  {
   "cell_type": "code",
   "execution_count": null,
   "id": "e029c72c",
   "metadata": {},
   "outputs": [],
   "source": [
    "df['final_request_text'][0]"
   ]
  },
  {
   "cell_type": "code",
   "execution_count": null,
   "id": "a9ac2882",
   "metadata": {},
   "outputs": [],
   "source": [
    "process_text(df['final_request_text'][0])"
   ]
  },
  {
   "cell_type": "code",
   "execution_count": null,
   "id": "a3813acb",
   "metadata": {},
   "outputs": [],
   "source": [
    "# 20% split for train and test data\n",
    "train_set = df.loc[:4536,:]\n",
    "test_set = df.loc[4537:,:].reset_index(drop=True)\n",
    "print(train_set.shape)\n",
    "print(test_set.shape)"
   ]
  },
  {
   "cell_type": "code",
   "execution_count": null,
   "id": "fd9d2c24",
   "metadata": {},
   "outputs": [],
   "source": [
    "final_df = df.loc[:,['upvotes_minus_downvotes','requester_account_age_in_days_at_request','request_number_of_comments_at_retrieval']]\n",
    "final_df['length_of_text'] = df.apply(lambda r: len(r['final_request_text']), axis = 1)\n",
    "final_df['evidence_link'] = df.apply(lambda r: 1 if re.findall(r'(?:http\\:|https\\:)?\\/\\/.*\\.',r['final_request_text']) else 0, axis = 1)\n",
    "final_df['requester_posted_before'] = df.apply(lambda r: 0 if r['requester_days_since_first_post_on_raop_at_request']==0 else 1, axis = 1)\n",
    "final_df['requester_received_pizza'] = df.loc[:,'requester_received_pizza']\n",
    "\n",
    "final_df"
   ]
  },
  {
   "cell_type": "code",
   "execution_count": null,
   "id": "93b9d5b2",
   "metadata": {
    "scrolled": true
   },
   "outputs": [],
   "source": [
    "final_train_set = final_df.loc[:4536,:]\n",
    "final_test_set = final_df.loc[4537:,:].reset_index(drop=True)\n",
    "print(final_train_set.shape)\n",
    "print(final_test_set.shape)"
   ]
  },
  {
   "cell_type": "markdown",
   "id": "2c4f9dba",
   "metadata": {},
   "source": [
    "## Random Forest based Count Model"
   ]
  },
  {
   "cell_type": "code",
   "execution_count": null,
   "id": "e5449757",
   "metadata": {},
   "outputs": [],
   "source": [
    "new_count_vec = CountVectorizer(analyzer=process_text, max_features=12500)\n",
    "new_count_df = new_count_vec.fit_transform(train_set['final_request_text'])\n",
    "new_count_labels = train_set['requester_received_pizza']\n",
    "\n",
    "print(new_count_df.shape)"
   ]
  },
  {
   "cell_type": "code",
   "execution_count": null,
   "id": "ee343594",
   "metadata": {},
   "outputs": [],
   "source": [
    "# MODELING TO GET ESTIMATES AND USING \n",
    "# STRATIFIED CROSS-VALIDATION AS THE DATASET IS IMBALANCED\n",
    "\n",
    "new_skfold_tfidf = StratifiedKFold(n_splits = 5, shuffle=True, random_state=RANDOM_STATE)\n",
    "new_count_model_lr = LogisticRegression(class_weight = {0:1, 1:5}, random_state=RANDOM_STATE)\n",
    "new_count_model_nbg = GaussianNB()\n",
    "new_count_model_nbm = MultinomialNB()\n",
    "new_count_model_rf = RandomForestClassifier(n_estimators=590, min_samples_leaf=2, min_samples_split=2, max_features='sqrt',max_depth=50, bootstrap=False, random_state=RANDOM_STATE)\n",
    "\n",
    "new_count_model_lr_accuracy_score = []\n",
    "new_count_model_nbg_accuracy_score = []\n",
    "new_count_model_nbm_accuracy_score = []\n",
    "new_count_model_rf_accuracy_score = []\n",
    "\n",
    "\n",
    "for train_index, test_index in new_skfold_tfidf.split(new_count_df, new_count_labels):\n",
    "    X_train, X_test = new_count_df[train_index], new_count_df[test_index]\n",
    "    y_train, y_test = new_count_labels[train_index], new_count_labels[test_index]\n",
    "    \n",
    "    new_count_model_lr.fit(X_train,y_train)\n",
    "    new_count_model_lr_accuracy_score.append(accuracy_score(y_test,new_count_model_lr.predict(X_test)))\n",
    "\n",
    "    new_count_model_nbg.fit(X_train.toarray(),y_train)\n",
    "    new_count_model_nbg_accuracy_score.append(accuracy_score(y_test,new_count_model_nbg.predict(X_test.toarray())))\n",
    "    \n",
    "    new_count_model_nbm.fit(X_train,y_train)\n",
    "    new_count_model_nbm_accuracy_score.append(accuracy_score(y_test,new_count_model_nbm.predict(X_test)))\n",
    "    \n",
    "    new_count_model_rf.fit(X_train,y_train)\n",
    "    new_count_model_rf_accuracy_score.append(accuracy_score(y_test,new_count_model_rf.predict(X_test)))\n",
    "\n",
    "new_t = PrettyTable()\n",
    "new_t.field_names = ['Model','Accuracy']\n",
    "new_t.add_rows([\n",
    "    ['Logistic Regression', mean(new_count_model_lr_accuracy_score)],\n",
    "    ['Gaussian NB', mean(new_count_model_nbg_accuracy_score)],\n",
    "    ['Multinomial NB', mean(new_count_model_nbm_accuracy_score)],\n",
    "    ['Random Forest', mean(new_count_model_rf_accuracy_score)],\n",
    "])\n",
    "new_t"
   ]
  },
  {
   "cell_type": "code",
   "execution_count": null,
   "id": "d7b6e5ff",
   "metadata": {},
   "outputs": [],
   "source": [
    "new_final_count_rf_df = final_train_set.copy()\n",
    "new_count_rf_est_prob = new_count_model_rf.predict_proba(new_count_df)[:,1]\n",
    "new_final_count_rf_df.insert(5,'prob_from_text',new_count_rf_est_prob)\n",
    "new_final_count_rf_df"
   ]
  },
  {
   "cell_type": "code",
   "execution_count": null,
   "id": "ef0e94b7",
   "metadata": {},
   "outputs": [],
   "source": [
    "new_final_count_rf_df = new_final_count_rf_df.sample(frac=1).reset_index(drop=True)\n",
    "new_final_count_rf_labels = new_final_count_rf_df.iloc[:,-1]\n",
    "new_final_count_rf_df = new_final_count_rf_df.iloc[:,:-1]\n",
    "new_final_count_rf_labels"
   ]
  },
  {
   "cell_type": "code",
   "execution_count": null,
   "id": "e069a9cc",
   "metadata": {},
   "outputs": [],
   "source": [
    "new_skfold_final_count_rf = StratifiedKFold(n_splits = 5, shuffle=True, random_state=RANDOM_STATE)\n",
    "new_final_count_rf_model_lr = LogisticRegression(class_weight = {0:1, 1:5}, random_state=RANDOM_STATE)\n",
    "new_final_count_rf_model_nbg = GaussianNB()\n",
    "new_final_count_rf_model_rf = RandomForestClassifier(n_estimators=590, min_samples_leaf=2, min_samples_split=2, max_features='sqrt',max_depth=50, bootstrap=False, random_state=RANDOM_STATE)\n",
    "\n",
    "new_final_count_rf_model_lr_accuracy_score = []\n",
    "new_final_count_rf_model_nbg_accuracy_score = []\n",
    "new_final_count_rf_model_rf_accuracy_score = []\n",
    "\n",
    "new_final_count_rf_model_lr_precision_score = []\n",
    "new_final_count_rf_model_nbg_precision_score = []\n",
    "new_final_count_rf_model_rf_precision_score = []\n",
    "\n",
    "new_final_count_rf_model_lr_recall_score = []\n",
    "new_final_count_rf_model_nbg_recall_score = []\n",
    "new_final_count_rf_model_rf_recall_score = []\n",
    "\n",
    "new_final_count_rf_model_lr_f1_score = []\n",
    "new_final_count_rf_model_nbg_f1_score = []\n",
    "new_final_count_rf_model_rf_f1_score = []\n",
    "\n",
    "\n",
    "for train_index, test_index in new_skfold_final_count_rf.split(new_final_count_rf_df, new_final_count_rf_labels):\n",
    "    X_train, X_test = new_final_count_rf_df.iloc[train_index,:], new_final_count_rf_df.iloc[test_index,:]\n",
    "    y_train, y_test = new_final_count_rf_labels[train_index], new_final_count_rf_labels[test_index]\n",
    "    \n",
    "    new_final_count_rf_model_lr.fit(X_train,y_train)\n",
    "    new_final_count_rf_model_lr_accuracy_score.append(accuracy_score(y_test,new_final_count_rf_model_lr.predict(X_test)))\n",
    "    new_final_count_rf_model_lr_precision_score.append(precision_score(y_test,new_final_count_rf_model_lr.predict(X_test)))\n",
    "    new_final_count_rf_model_lr_recall_score.append(recall_score(y_test,new_final_count_rf_model_lr.predict(X_test)))\n",
    "    new_final_count_rf_model_lr_f1_score.append(f1_score(y_test,new_final_count_rf_model_lr.predict(X_test)))\n",
    "    \n",
    "    new_final_count_rf_model_nbg.fit(X_train,y_train)\n",
    "    new_final_count_rf_model_nbg_accuracy_score.append(accuracy_score(y_test,new_final_count_rf_model_nbg.predict(X_test)))\n",
    "    new_final_count_rf_model_nbg_precision_score.append(precision_score(y_test,new_final_count_rf_model_nbg.predict(X_test)))\n",
    "    new_final_count_rf_model_nbg_recall_score.append(recall_score(y_test,new_final_count_rf_model_nbg.predict(X_test)))\n",
    "    new_final_count_rf_model_nbg_f1_score.append(f1_score(y_test,new_final_count_rf_model_nbg.predict(X_test)))\n",
    "    \n",
    "    new_final_count_rf_model_rf.fit(X_train,y_train)\n",
    "    new_final_count_rf_model_rf_accuracy_score.append(accuracy_score(y_test,new_final_count_rf_model_rf.predict(X_test)))\n",
    "    new_final_count_rf_model_rf_precision_score.append(precision_score(y_test,new_final_count_rf_model_rf.predict(X_test)))\n",
    "    new_final_count_rf_model_rf_recall_score.append(recall_score(y_test,new_final_count_rf_model_rf.predict(X_test)))\n",
    "    new_final_count_rf_model_rf_f1_score.append(f1_score(y_test,new_final_count_rf_model_rf.predict(X_test)))\n",
    "\n",
    "new_t = PrettyTable()\n",
    "new_t.field_names = ['Model','Accuracy','Precision','Recall','F1-Score']\n",
    "new_t.add_rows([\n",
    "    ['Logistic Regression', mean(new_final_count_rf_model_lr_accuracy_score),mean(new_final_count_rf_model_lr_precision_score),mean(new_final_count_rf_model_lr_recall_score),mean(new_final_count_rf_model_lr_f1_score)],\n",
    "    ['Gaussian NB', mean(new_final_count_rf_model_nbg_accuracy_score),mean(new_final_count_rf_model_nbg_precision_score),mean(new_final_count_rf_model_nbg_recall_score),mean(new_final_count_rf_model_nbg_f1_score)],\n",
    "    ['Random Forest', mean(new_final_count_rf_model_rf_accuracy_score),mean(new_final_count_rf_model_rf_precision_score),mean(new_final_count_rf_model_rf_recall_score),mean(new_final_count_rf_model_rf_f1_score)],\n",
    "])\n",
    "new_t"
   ]
  },
  {
   "cell_type": "code",
   "execution_count": null,
   "id": "3963238e",
   "metadata": {},
   "outputs": [],
   "source": [
    "# using shapley values to understand importance of each feature\n",
    "count_explainer = shap.TreeExplainer(new_final_count_rf_model_rf)\n",
    "count_shap_values = count_explainer.shap_values(X_test)\n",
    "shap.summary_plot(count_shap_values, X_test, plot_type=\"bar\")\n",
    "#plt.savefig('eps/FeatureImportanceShapley_count.eps',dpi=1200,bbox_inches='tight')"
   ]
  },
  {
   "cell_type": "code",
   "execution_count": null,
   "id": "ee071e6a",
   "metadata": {},
   "outputs": [],
   "source": [
    "sorted_idx = new_final_count_rf_model_rf.feature_importances_.argsort()\n",
    "plt.barh(new_final_count_rf_df.columns[sorted_idx], new_final_count_rf_model_rf.feature_importances_[sorted_idx])"
   ]
  },
  {
   "cell_type": "code",
   "execution_count": null,
   "id": "92c12e61",
   "metadata": {},
   "outputs": [],
   "source": [
    "test_count_df = new_count_vec.transform(test_set['final_request_text'])\n",
    "print(test_count_df.shape)"
   ]
  },
  {
   "cell_type": "code",
   "execution_count": null,
   "id": "83267c7b",
   "metadata": {},
   "outputs": [],
   "source": [
    "test_final_count_rf_df = final_test_set.copy()\n",
    "test_count_rf_est_prob = new_count_model_rf.predict_proba(test_count_df)[:,1]\n",
    "test_final_count_rf_df.insert(5,'prob_from_text',test_count_rf_est_prob)\n",
    "test_final_count_rf_df"
   ]
  },
  {
   "cell_type": "code",
   "execution_count": null,
   "id": "30e4a46f",
   "metadata": {},
   "outputs": [],
   "source": [
    "test_final_count_rf_df = test_final_count_rf_df.sample(frac=1).reset_index(drop=True)\n",
    "test_final_count_rf_labels = test_final_count_rf_df.iloc[:,-1]\n",
    "test_final_count_rf_df = test_final_count_rf_df.iloc[:,:-1]\n",
    "test_final_count_rf_labels"
   ]
  },
  {
   "cell_type": "code",
   "execution_count": null,
   "id": "18ba567e",
   "metadata": {},
   "outputs": [],
   "source": [
    "new_t = PrettyTable()\n",
    "new_t.field_names = ['Model','Accuracy','Precision','Recall','F1-Score']\n",
    "new_t.add_rows([\n",
    "    ['Logistic Regression', accuracy_score(test_final_count_rf_labels, new_final_count_rf_model_lr.predict(test_final_count_rf_df)), precision_score(test_final_count_rf_labels, new_final_count_rf_model_lr.predict(test_final_count_rf_df)), recall_score(test_final_count_rf_labels, new_final_count_rf_model_lr.predict(test_final_count_rf_df)), f1_score(test_final_count_rf_labels, new_final_count_rf_model_lr.predict(test_final_count_rf_df))],\n",
    "    ['Gaussian NB', accuracy_score(test_final_count_rf_labels, new_final_count_rf_model_nbg.predict(test_final_count_rf_df)), precision_score(test_final_count_rf_labels, new_final_count_rf_model_nbg.predict(test_final_count_rf_df)), recall_score(test_final_count_rf_labels, new_final_count_rf_model_nbg.predict(test_final_count_rf_df)), f1_score(test_final_count_rf_labels, new_final_count_rf_model_nbg.predict(test_final_count_rf_df))],\n",
    "    ['Random Forest', accuracy_score(test_final_count_rf_labels, new_final_count_rf_model_rf.predict(test_final_count_rf_df)), precision_score(test_final_count_rf_labels, new_final_count_rf_model_rf.predict(test_final_count_rf_df)), recall_score(test_final_count_rf_labels, new_final_count_rf_model_rf.predict(test_final_count_rf_df)), f1_score(test_final_count_rf_labels, new_final_count_rf_model_rf.predict(test_final_count_rf_df))],\n",
    "])\n",
    "new_t"
   ]
  },
  {
   "cell_type": "code",
   "execution_count": null,
   "id": "7693b3ad",
   "metadata": {},
   "outputs": [],
   "source": []
  },
  {
   "cell_type": "markdown",
   "id": "3716f83e",
   "metadata": {},
   "source": [
    "## Random Forest based TF-IDF Model"
   ]
  },
  {
   "cell_type": "code",
   "execution_count": null,
   "id": "28cf0c07",
   "metadata": {},
   "outputs": [],
   "source": [
    "new_tfidf_vec = TfidfVectorizer(analyzer=process_text, max_features = 12500)\n",
    "new_tfidf_df = new_tfidf_vec.fit_transform(train_set['final_request_text'])\n",
    "\n",
    "new_tfidf_labels = train_set['requester_received_pizza']\n",
    "\n",
    "print(new_tfidf_df.shape)"
   ]
  },
  {
   "cell_type": "code",
   "execution_count": null,
   "id": "da83afd1",
   "metadata": {},
   "outputs": [],
   "source": [
    "# MODELING TO GET ESTIMATES AND USING \n",
    "# STRATIFIED CROSS-VALIDATION AS THE DATASET IS IMBALANCED\n",
    "\n",
    "new_skfold_tfidf = StratifiedKFold(n_splits = 5, shuffle=True, random_state=RANDOM_STATE)\n",
    "new_tfidf_model_lr = LogisticRegression(class_weight = {0:1, 1:5}, random_state=RANDOM_STATE)\n",
    "new_tfidf_model_nbg = GaussianNB()\n",
    "new_tfidf_model_nbm = MultinomialNB()\n",
    "new_tfidf_model_rf = RandomForestClassifier(n_estimators=590, min_samples_leaf=2, min_samples_split=2, max_features='sqrt',max_depth=50, bootstrap=False, random_state=RANDOM_STATE)\n",
    "\n",
    "new_tfidf_model_lr_accuracy_score = []\n",
    "new_tfidf_model_nbg_accuracy_score = []\n",
    "new_tfidf_model_nbm_accuracy_score = []\n",
    "new_tfidf_model_rf_accuracy_score = []\n",
    "\n",
    "\n",
    "for train_index, test_index in new_skfold_tfidf.split(new_tfidf_df, new_tfidf_labels):\n",
    "    X_train, X_test = new_tfidf_df[train_index], new_tfidf_df[test_index]\n",
    "    y_train, y_test = new_tfidf_labels[train_index], new_tfidf_labels[test_index]\n",
    "    \n",
    "    new_tfidf_model_lr.fit(X_train,y_train)\n",
    "    new_tfidf_model_lr_accuracy_score.append(accuracy_score(y_test,new_tfidf_model_lr.predict(X_test)))\n",
    "\n",
    "    new_tfidf_model_nbg.fit(X_train.toarray(),y_train)\n",
    "    new_tfidf_model_nbg_accuracy_score.append(accuracy_score(y_test,new_tfidf_model_nbg.predict(X_test.toarray())))\n",
    "    \n",
    "    new_tfidf_model_nbm.fit(X_train,y_train)\n",
    "    new_tfidf_model_nbm_accuracy_score.append(accuracy_score(y_test,new_tfidf_model_nbm.predict(X_test)))\n",
    "    \n",
    "    new_tfidf_model_rf.fit(X_train,y_train)\n",
    "    new_tfidf_model_rf_accuracy_score.append(accuracy_score(y_test,new_tfidf_model_rf.predict(X_test)))\n",
    "\n",
    "new_t = PrettyTable()\n",
    "new_t.field_names = ['Model','Accuracy']\n",
    "new_t.add_rows([\n",
    "    ['Logistic Regression', mean(new_tfidf_model_lr_accuracy_score)],\n",
    "    ['Gaussian NB', mean(new_tfidf_model_nbg_accuracy_score)],\n",
    "    ['Multinomial NB', mean(new_tfidf_model_nbm_accuracy_score)],\n",
    "    ['Random Forest', mean(new_tfidf_model_rf_accuracy_score)],\n",
    "])\n",
    "new_t"
   ]
  },
  {
   "cell_type": "code",
   "execution_count": null,
   "id": "239114ae",
   "metadata": {},
   "outputs": [],
   "source": [
    "new_final_tfidf_rf_df = final_train_set.copy()\n",
    "new_tfidf_rf_est_prob = new_tfidf_model_rf.predict_proba(new_tfidf_df)[:,1]\n",
    "new_final_tfidf_rf_df.insert(5,'prob_from_text',new_tfidf_rf_est_prob)\n",
    "new_final_tfidf_rf_df"
   ]
  },
  {
   "cell_type": "code",
   "execution_count": null,
   "id": "086272aa",
   "metadata": {},
   "outputs": [],
   "source": [
    "new_final_tfidf_rf_df = new_final_tfidf_rf_df.sample(frac=1).reset_index(drop=True)\n",
    "new_final_tfidf_rf_labels = new_final_tfidf_rf_df.iloc[:,-1]\n",
    "new_final_tfidf_rf_df = new_final_tfidf_rf_df.iloc[:,:-1]\n",
    "new_final_tfidf_rf_labels"
   ]
  },
  {
   "cell_type": "code",
   "execution_count": null,
   "id": "6c6c8070",
   "metadata": {},
   "outputs": [],
   "source": [
    "new_skfold_final_tfidf_rf = StratifiedKFold(n_splits = 5, shuffle=True, random_state=RANDOM_STATE)\n",
    "new_final_tfidf_rf_model_lr = LogisticRegression(class_weight = {0:1, 1:5}, random_state=RANDOM_STATE)\n",
    "new_final_tfidf_rf_model_nbg = GaussianNB()\n",
    "new_final_tfidf_rf_model_rf = RandomForestClassifier(n_estimators=590, min_samples_leaf=2, min_samples_split=2, max_features='sqrt',max_depth=50, bootstrap=False, random_state=RANDOM_STATE)\n",
    "\n",
    "new_final_tfidf_rf_model_lr_accuracy_score = []\n",
    "new_final_tfidf_rf_model_nbg_accuracy_score = []\n",
    "new_final_tfidf_rf_model_rf_accuracy_score = []\n",
    "\n",
    "new_final_tfidf_rf_model_lr_precision_score = []\n",
    "new_final_tfidf_rf_model_nbg_precision_score = []\n",
    "new_final_tfidf_rf_model_rf_precision_score = []\n",
    "\n",
    "new_final_tfidf_rf_model_lr_recall_score = []\n",
    "new_final_tfidf_rf_model_nbg_recall_score = []\n",
    "new_final_tfidf_rf_model_rf_recall_score = []\n",
    "\n",
    "new_final_tfidf_rf_model_lr_f1_score = []\n",
    "new_final_tfidf_rf_model_nbg_f1_score = []\n",
    "new_final_tfidf_rf_model_rf_f1_score = []\n",
    "\n",
    "\n",
    "for train_index, test_index in new_skfold_final_tfidf_rf.split(new_final_tfidf_rf_df, new_final_tfidf_rf_labels):\n",
    "    X_train, X_test = new_final_tfidf_rf_df.iloc[train_index,:], new_final_tfidf_rf_df.iloc[test_index,:]\n",
    "    y_train, y_test = new_final_tfidf_rf_labels[train_index], new_final_tfidf_rf_labels[test_index]\n",
    "    \n",
    "    new_final_tfidf_rf_model_lr.fit(X_train,y_train)\n",
    "    new_final_tfidf_rf_model_lr_accuracy_score.append(accuracy_score(y_test,new_final_tfidf_rf_model_lr.predict(X_test)))\n",
    "    new_final_tfidf_rf_model_lr_precision_score.append(precision_score(y_test,new_final_tfidf_rf_model_lr.predict(X_test)))\n",
    "    new_final_tfidf_rf_model_lr_recall_score.append(recall_score(y_test,new_final_tfidf_rf_model_lr.predict(X_test)))\n",
    "    new_final_tfidf_rf_model_lr_f1_score.append(f1_score(y_test,new_final_tfidf_rf_model_lr.predict(X_test)))\n",
    "    \n",
    "    new_final_tfidf_rf_model_nbg.fit(X_train,y_train)\n",
    "    new_final_tfidf_rf_model_nbg_accuracy_score.append(accuracy_score(y_test,new_final_tfidf_rf_model_nbg.predict(X_test)))\n",
    "    new_final_tfidf_rf_model_nbg_precision_score.append(precision_score(y_test,new_final_tfidf_rf_model_nbg.predict(X_test)))\n",
    "    new_final_tfidf_rf_model_nbg_recall_score.append(recall_score(y_test,new_final_tfidf_rf_model_nbg.predict(X_test)))\n",
    "    new_final_tfidf_rf_model_nbg_f1_score.append(f1_score(y_test,new_final_tfidf_rf_model_nbg.predict(X_test)))\n",
    "    \n",
    "    new_final_tfidf_rf_model_rf.fit(X_train,y_train)\n",
    "    new_final_tfidf_rf_model_rf_accuracy_score.append(accuracy_score(y_test,new_final_tfidf_rf_model_rf.predict(X_test)))\n",
    "    new_final_tfidf_rf_model_rf_precision_score.append(precision_score(y_test,new_final_tfidf_rf_model_rf.predict(X_test)))\n",
    "    new_final_tfidf_rf_model_rf_recall_score.append(recall_score(y_test,new_final_tfidf_rf_model_rf.predict(X_test)))\n",
    "    new_final_tfidf_rf_model_rf_f1_score.append(f1_score(y_test,new_final_tfidf_rf_model_rf.predict(X_test)))\n",
    "\n",
    "new_t = PrettyTable()\n",
    "new_t.field_names = ['Model','Accuracy','Precision','Recall','F1-Score']\n",
    "new_t.add_rows([\n",
    "    ['Logistic Regression', mean(new_final_tfidf_rf_model_lr_accuracy_score),mean(new_final_tfidf_rf_model_lr_precision_score),mean(new_final_tfidf_rf_model_lr_recall_score),mean(new_final_tfidf_rf_model_lr_f1_score)],\n",
    "    ['Gaussian NB', mean(new_final_tfidf_rf_model_nbg_accuracy_score),mean(new_final_tfidf_rf_model_nbg_precision_score),mean(new_final_tfidf_rf_model_nbg_recall_score),mean(new_final_tfidf_rf_model_nbg_f1_score)],\n",
    "    ['Random Forest', mean(new_final_tfidf_rf_model_rf_accuracy_score),mean(new_final_tfidf_rf_model_rf_precision_score),mean(new_final_tfidf_rf_model_rf_recall_score),mean(new_final_tfidf_rf_model_rf_f1_score)],\n",
    "])\n",
    "new_t"
   ]
  },
  {
   "cell_type": "code",
   "execution_count": null,
   "id": "aed61595",
   "metadata": {},
   "outputs": [],
   "source": [
    "# using shapley values to understand importance of each feature\n",
    "tfidf_explainer = shap.TreeExplainer(new_final_tfidf_rf_model_rf)\n",
    "tfidf_shap_values = tfidf_explainer.shap_values(X_test)\n",
    "shap.summary_plot(tfidf_shap_values, X_test, plot_type=\"bar\")\n",
    "#plt.savefig('eps/FeatureImportanceShapley_rf.eps',dpi=1200,bbox_inches='tight')"
   ]
  },
  {
   "cell_type": "code",
   "execution_count": null,
   "id": "cb82298e",
   "metadata": {},
   "outputs": [],
   "source": [
    "sorted_idx = new_final_tfidf_rf_model_rf.feature_importances_.argsort()\n",
    "plt.barh(new_final_tfidf_rf_df.columns[sorted_idx], new_final_tfidf_rf_model_rf.feature_importances_[sorted_idx])"
   ]
  },
  {
   "cell_type": "code",
   "execution_count": null,
   "id": "2978ede1",
   "metadata": {},
   "outputs": [],
   "source": [
    "test_tfidf_df = new_tfidf_vec.transform(test_set['final_request_text'])\n",
    "print(test_tfidf_df.shape)"
   ]
  },
  {
   "cell_type": "code",
   "execution_count": null,
   "id": "83eb7e93",
   "metadata": {},
   "outputs": [],
   "source": [
    "final_test_set"
   ]
  },
  {
   "cell_type": "code",
   "execution_count": null,
   "id": "09eec6b7",
   "metadata": {},
   "outputs": [],
   "source": [
    "test_final_tfidf_rf_df = final_test_set.copy()\n",
    "test_tfidf_rf_est_prob = new_tfidf_model_rf.predict_proba(test_tfidf_df)[:,1]\n",
    "test_final_tfidf_rf_df.insert(5,'prob_from_text',test_tfidf_rf_est_prob)\n",
    "test_final_tfidf_rf_df"
   ]
  },
  {
   "cell_type": "code",
   "execution_count": null,
   "id": "e980007a",
   "metadata": {},
   "outputs": [],
   "source": [
    "test_final_tfidf_rf_df = test_final_tfidf_rf_df.sample(frac=1).reset_index(drop=True)\n",
    "test_final_tfidf_rf_labels = test_final_tfidf_rf_df.iloc[:,-1]\n",
    "test_final_tfidf_rf_df = test_final_tfidf_rf_df.iloc[:,:-1]\n",
    "test_final_tfidf_rf_labels"
   ]
  },
  {
   "cell_type": "code",
   "execution_count": null,
   "id": "d00f3509",
   "metadata": {},
   "outputs": [],
   "source": [
    "new_t = PrettyTable()\n",
    "new_t.field_names = ['Model','Accuracy','Precision','Recall','F1-Score']\n",
    "new_t.add_rows([\n",
    "    ['Logistic Regression', accuracy_score(test_final_tfidf_rf_labels, new_final_tfidf_rf_model_lr.predict(test_final_tfidf_rf_df)), precision_score(test_final_tfidf_rf_labels, new_final_tfidf_rf_model_lr.predict(test_final_tfidf_rf_df)), recall_score(test_final_tfidf_rf_labels, new_final_tfidf_rf_model_lr.predict(test_final_tfidf_rf_df)),f1_score(test_final_tfidf_rf_labels, new_final_tfidf_rf_model_lr.predict(test_final_tfidf_rf_df))],\n",
    "    ['Gaussian NB', accuracy_score(test_final_tfidf_rf_labels, new_final_tfidf_rf_model_nbg.predict(test_final_tfidf_rf_df)), precision_score(test_final_tfidf_rf_labels, new_final_tfidf_rf_model_nbg.predict(test_final_tfidf_rf_df)), recall_score(test_final_tfidf_rf_labels, new_final_tfidf_rf_model_nbg.predict(test_final_tfidf_rf_df)), f1_score(test_final_tfidf_rf_labels, new_final_tfidf_rf_model_nbg.predict(test_final_tfidf_rf_df))],\n",
    "    ['Random Forest', accuracy_score(test_final_tfidf_rf_labels, new_final_tfidf_rf_model_rf.predict(test_final_tfidf_rf_df)), precision_score(test_final_tfidf_rf_labels, new_final_tfidf_rf_model_rf.predict(test_final_tfidf_rf_df)), recall_score(test_final_tfidf_rf_labels, new_final_tfidf_rf_model_rf.predict(test_final_tfidf_rf_df)), f1_score(test_final_tfidf_rf_labels, new_final_tfidf_rf_model_rf.predict(test_final_tfidf_rf_df))],\n",
    "])\n",
    "new_t"
   ]
  },
  {
   "cell_type": "code",
   "execution_count": null,
   "id": "190effc5",
   "metadata": {},
   "outputs": [],
   "source": []
  },
  {
   "cell_type": "markdown",
   "id": "db4291b7",
   "metadata": {},
   "source": [
    "## Random Forest based MinMax Word2Vec Model"
   ]
  },
  {
   "cell_type": "code",
   "execution_count": null,
   "id": "e74de9a5",
   "metadata": {},
   "outputs": [],
   "source": [
    "model = KeyedVectors.load_word2vec_format(PATH + \"GoogleNews-vectors-negative300.bin\", limit = 10**6,binary=True)\n",
    "\n",
    "def get_vec(word):\n",
    "    try:\n",
    "        return model[word]\n",
    "    except:\n",
    "        return np.zeros(300)\n",
    "\n",
    "def get_sent_vec_min_max(sent):\n",
    "    tokens = process_text(sent)\n",
    "    min_vector = np.min([get_vec(t) for t in tokens], axis = 0)\n",
    "    max_vector = np.max([get_vec(t) for t in tokens], axis = 0)\n",
    "    vector = np.concatenate([min_vector,max_vector])\n",
    "    \n",
    "    return vector\n",
    "\n",
    "new_minmax_word2vec_emb = train_set.apply(lambda r: get_sent_vec_min_max(r['final_request_text']), axis=1)\n",
    "new_minmax_v = np.column_stack([new_minmax_word2vec_emb.values.tolist()])\n",
    "new_minmax_word2vec_df = pd.DataFrame(new_minmax_v)\n",
    "new_minmax_word2vec_labels = train_set['requester_received_pizza']\n",
    "new_minmax_word2vec_df"
   ]
  },
  {
   "cell_type": "code",
   "execution_count": null,
   "id": "94f47d1e",
   "metadata": {},
   "outputs": [],
   "source": [
    "# MODELING TO GET ESTIMATES AND USING \n",
    "# STRATIFIED CROSS-VALIDATION AS THE DATASET IS IMBALANCED\n",
    "\n",
    "new_skfold_minmax_word2vec = StratifiedKFold(n_splits = 5, shuffle=True, random_state=RANDOM_STATE)\n",
    "new_minmax_word2vec_model_lr = LogisticRegression(class_weight = {0:1, 1:5}, random_state=RANDOM_STATE)\n",
    "new_minmax_word2vec_model_nbg = GaussianNB()\n",
    "new_minmax_word2vec_model_rf = RandomForestClassifier(n_estimators=590, min_samples_leaf=2, min_samples_split=2, max_features='sqrt',max_depth=50, bootstrap=False, random_state=RANDOM_STATE)\n",
    "\n",
    "new_minmax_word2vec_model_lr_accuracy_score = []\n",
    "new_minmax_word2vec_model_nbg_accuracy_score = []\n",
    "new_minmax_word2vec_model_rf_accuracy_score = []\n",
    "\n",
    "for train_index, test_index in new_skfold_minmax_word2vec.split(new_minmax_word2vec_df, new_minmax_word2vec_labels):\n",
    "    X_train, X_test = new_minmax_word2vec_df.iloc[train_index,:], new_minmax_word2vec_df.iloc[test_index,:]\n",
    "    y_train, y_test = new_minmax_word2vec_labels[train_index], new_minmax_word2vec_labels[test_index]\n",
    "    \n",
    "    new_minmax_word2vec_model_lr.fit(X_train,y_train)\n",
    "    new_minmax_word2vec_model_lr_accuracy_score.append(accuracy_score(y_test,new_minmax_word2vec_model_lr.predict(X_test)))\n",
    "    \n",
    "    new_minmax_word2vec_model_nbg.fit(X_train,y_train)\n",
    "    new_minmax_word2vec_model_nbg_accuracy_score.append(accuracy_score(y_test,new_minmax_word2vec_model_nbg.predict(X_test)))\n",
    "    \n",
    "    new_minmax_word2vec_model_rf.fit(X_train,y_train)\n",
    "    new_minmax_word2vec_model_rf_accuracy_score.append(accuracy_score(y_test,new_minmax_word2vec_model_rf.predict(X_test)))\n",
    "\n",
    "t = PrettyTable()\n",
    "t.field_names = ['Model','Accuracy']\n",
    "t.add_rows([\n",
    "    ['Logistic Regression', mean(new_minmax_word2vec_model_lr_accuracy_score)],\n",
    "    ['Gaussian NB', mean(new_minmax_word2vec_model_nbg_accuracy_score)],\n",
    "    ['Random Forest', mean(new_minmax_word2vec_model_rf_accuracy_score)]\n",
    "])\n",
    "t"
   ]
  },
  {
   "cell_type": "code",
   "execution_count": null,
   "id": "2d7172ae",
   "metadata": {},
   "outputs": [],
   "source": [
    "new_final_minmax_word2vec_rf_df = final_train_set.copy()\n",
    "new_minmax_word2vec_rf_est_prob = new_minmax_word2vec_model_rf.predict_proba(new_minmax_word2vec_df)[:,1]\n",
    "new_final_minmax_word2vec_rf_df.insert(5,'prob_from_text',new_minmax_word2vec_rf_est_prob)"
   ]
  },
  {
   "cell_type": "code",
   "execution_count": null,
   "id": "628ddcc0",
   "metadata": {},
   "outputs": [],
   "source": [
    "new_final_minmax_word2vec_rf_df = new_final_minmax_word2vec_rf_df.sample(frac=1).reset_index(drop=True)\n",
    "new_final_minmax_word2vec_rf_labels = new_final_minmax_word2vec_rf_df.iloc[:,-1]\n",
    "new_final_minmax_word2vec_rf_df = new_final_minmax_word2vec_rf_df.iloc[:,:-1]\n",
    "new_final_minmax_word2vec_rf_labels"
   ]
  },
  {
   "cell_type": "code",
   "execution_count": null,
   "id": "9df399b2",
   "metadata": {},
   "outputs": [],
   "source": [
    "new_skfold_final_minmax_word2vec = StratifiedKFold(n_splits = 5, shuffle=True, random_state=RANDOM_STATE)\n",
    "new_final_minmax_word2vec_model_lr = LogisticRegression(class_weight = {0:1, 1:5}, random_state=RANDOM_STATE)\n",
    "new_final_minmax_word2vec_model_nbg = GaussianNB()\n",
    "new_final_minmax_word2vec_model_rf = RandomForestClassifier(n_estimators=590, min_samples_leaf=2, min_samples_split=2, max_features='sqrt',max_depth=50, bootstrap=False, random_state=RANDOM_STATE)\n",
    "\n",
    "new_final_minmax_word2vec_model_lr_accuracy_score = []\n",
    "new_final_minmax_word2vec_model_nbg_accuracy_score = []\n",
    "new_final_minmax_word2vec_model_rf_accuracy_score = []\n",
    "\n",
    "new_final_minmax_word2vec_model_lr_precision_score = []\n",
    "new_final_minmax_word2vec_model_nbg_precision_score = []\n",
    "new_final_minmax_word2vec_model_rf_precision_score = []\n",
    "\n",
    "new_final_minmax_word2vec_model_lr_recall_score = []\n",
    "new_final_minmax_word2vec_model_nbg_recall_score = []\n",
    "new_final_minmax_word2vec_model_rf_recall_score = []\n",
    "\n",
    "new_final_minmax_word2vec_model_lr_f1_score = []\n",
    "new_final_minmax_word2vec_model_nbg_f1_score = []\n",
    "new_final_minmax_word2vec_model_rf_f1_score = []\n",
    "\n",
    "\n",
    "for train_index, test_index in new_skfold_final_minmax_word2vec.split(new_final_minmax_word2vec_rf_df, new_final_minmax_word2vec_rf_labels):\n",
    "    X_train, X_test = new_final_minmax_word2vec_rf_df.iloc[train_index,:], new_final_minmax_word2vec_rf_df.iloc[test_index,:]\n",
    "    y_train, y_test = new_final_minmax_word2vec_rf_labels[train_index], new_final_minmax_word2vec_rf_labels[test_index]\n",
    "    \n",
    "    new_final_minmax_word2vec_model_lr.fit(X_train,y_train)\n",
    "    new_final_minmax_word2vec_model_lr_accuracy_score.append(accuracy_score(y_test,new_final_minmax_word2vec_model_lr.predict(X_test)))\n",
    "    new_final_minmax_word2vec_model_lr_precision_score.append(precision_score(y_test,new_final_minmax_word2vec_model_lr.predict(X_test)))\n",
    "    new_final_minmax_word2vec_model_lr_recall_score.append(recall_score(y_test,new_final_minmax_word2vec_model_lr.predict(X_test)))\n",
    "    new_final_minmax_word2vec_model_lr_f1_score.append(f1_score(y_test,new_final_minmax_word2vec_model_lr.predict(X_test)))\n",
    "    \n",
    "    new_final_minmax_word2vec_model_nbg.fit(X_train,y_train)\n",
    "    new_final_minmax_word2vec_model_nbg_accuracy_score.append(accuracy_score(y_test,new_final_minmax_word2vec_model_nbg.predict(X_test)))\n",
    "    new_final_minmax_word2vec_model_nbg_precision_score.append(precision_score(y_test,new_final_minmax_word2vec_model_nbg.predict(X_test)))\n",
    "    new_final_minmax_word2vec_model_nbg_recall_score.append(recall_score(y_test,new_final_minmax_word2vec_model_nbg.predict(X_test)))\n",
    "    new_final_minmax_word2vec_model_nbg_f1_score.append(f1_score(y_test,new_final_minmax_word2vec_model_nbg.predict(X_test)))\n",
    "    \n",
    "    new_final_minmax_word2vec_model_rf.fit(X_train,y_train)\n",
    "    new_final_minmax_word2vec_model_rf_accuracy_score.append(accuracy_score(y_test,new_final_minmax_word2vec_model_rf.predict(X_test)))\n",
    "    new_final_minmax_word2vec_model_rf_precision_score.append(precision_score(y_test,new_final_minmax_word2vec_model_rf.predict(X_test)))\n",
    "    new_final_minmax_word2vec_model_rf_recall_score.append(recall_score(y_test,new_final_minmax_word2vec_model_rf.predict(X_test)))\n",
    "    new_final_minmax_word2vec_model_rf_f1_score.append(f1_score(y_test,new_final_minmax_word2vec_model_rf.predict(X_test)))\n",
    "\n",
    "t = PrettyTable()\n",
    "t.field_names = ['Model','Accuracy','Precision','Recall','F1-Score']\n",
    "t.add_rows([\n",
    "    ['Logistic Regression', mean(new_final_minmax_word2vec_model_lr_accuracy_score),mean(new_final_minmax_word2vec_model_lr_precision_score),mean(new_final_minmax_word2vec_model_lr_recall_score),mean(new_final_minmax_word2vec_model_lr_f1_score)],\n",
    "    ['Gaussian NB', mean(new_final_minmax_word2vec_model_nbg_accuracy_score),mean(new_final_minmax_word2vec_model_nbg_precision_score),mean(new_final_minmax_word2vec_model_nbg_recall_score),mean(new_final_minmax_word2vec_model_nbg_f1_score)],\n",
    "    ['Random Forest', mean(new_final_minmax_word2vec_model_rf_accuracy_score),mean(new_final_minmax_word2vec_model_rf_precision_score),mean(new_final_minmax_word2vec_model_rf_recall_score),mean(new_final_minmax_word2vec_model_rf_f1_score)],\n",
    "])\n",
    "t"
   ]
  },
  {
   "cell_type": "code",
   "execution_count": null,
   "id": "cda3cf27",
   "metadata": {},
   "outputs": [],
   "source": [
    "# using shapley values to understand importance of each feature\n",
    "minmax_word2vec_explainer = shap.TreeExplainer(new_final_minmax_word2vec_model_rf)\n",
    "minmax_word2vec_shap_values = minmax_word2vec_explainer.shap_values(X_test)\n",
    "shap.summary_plot(minmax_word2vec_shap_values, X_test, plot_type=\"bar\",show=False)\n",
    "#plt.savefig('eps/FeatureImportanceShapley_minmax.eps',dpi=1200,bbox_inches='tight')"
   ]
  },
  {
   "cell_type": "code",
   "execution_count": null,
   "id": "452125a3",
   "metadata": {},
   "outputs": [],
   "source": [
    "sorted_idx = new_final_minmax_word2vec_model_rf.feature_importances_.argsort()\n",
    "plt.barh(new_final_minmax_word2vec_rf_df.columns[sorted_idx], new_final_minmax_word2vec_model_rf.feature_importances_[sorted_idx])"
   ]
  },
  {
   "cell_type": "code",
   "execution_count": null,
   "id": "111ad397",
   "metadata": {},
   "outputs": [],
   "source": [
    "test_minmax_word2vec_emb = test_set.apply(lambda r: get_sent_vec_min_max(r['final_request_text']), axis=1)\n",
    "test_minmax_v = np.column_stack([test_minmax_word2vec_emb.values.tolist()])\n",
    "test_minmax_word2vec_df = pd.DataFrame(test_minmax_v)\n",
    "test_minmax_word2vec_labels = test_set['requester_received_pizza']\n",
    "test_minmax_word2vec_df"
   ]
  },
  {
   "cell_type": "code",
   "execution_count": null,
   "id": "ab11cefc",
   "metadata": {},
   "outputs": [],
   "source": [
    "test_final_minmax_word2vec_rf_df = final_test_set.copy()\n",
    "test_tfidf_minmax_word2vec_est_prob = new_minmax_word2vec_model_rf.predict_proba(test_minmax_word2vec_df)[:,1]\n",
    "test_final_minmax_word2vec_rf_df.insert(5,'prob_from_text',test_tfidf_minmax_word2vec_est_prob)\n",
    "test_final_minmax_word2vec_rf_df"
   ]
  },
  {
   "cell_type": "code",
   "execution_count": null,
   "id": "6990b8f7",
   "metadata": {},
   "outputs": [],
   "source": [
    "test_final_minmax_word2vec_rf_df = test_final_minmax_word2vec_rf_df.sample(frac=1).reset_index(drop=True)\n",
    "test_final_minmax_word2vec_rf_labels = test_final_minmax_word2vec_rf_df.iloc[:,-1]\n",
    "test_final_minmax_word2vec_rf_df = test_final_minmax_word2vec_rf_df.iloc[:,:-1]\n",
    "test_final_minmax_word2vec_rf_labels"
   ]
  },
  {
   "cell_type": "code",
   "execution_count": null,
   "id": "a1f854a2",
   "metadata": {},
   "outputs": [],
   "source": [
    "new_t = PrettyTable()\n",
    "new_t.field_names = ['Model','Accuracy','Precision','Recall','F1-Score']\n",
    "new_t.add_rows([\n",
    "    ['Logistic Regression', accuracy_score(test_final_minmax_word2vec_rf_labels, new_final_minmax_word2vec_model_lr.predict(test_final_minmax_word2vec_rf_df)), precision_score(test_final_minmax_word2vec_rf_labels, new_final_minmax_word2vec_model_lr.predict(test_final_minmax_word2vec_rf_df)), recall_score(test_final_minmax_word2vec_rf_labels, new_final_minmax_word2vec_model_lr.predict(test_final_minmax_word2vec_rf_df)),f1_score(test_final_minmax_word2vec_rf_labels, new_final_minmax_word2vec_model_lr.predict(test_final_minmax_word2vec_rf_df))],\n",
    "    ['Gaussian NB', accuracy_score(test_final_minmax_word2vec_rf_labels, new_final_minmax_word2vec_model_nbg.predict(test_final_minmax_word2vec_rf_df)), precision_score(test_final_minmax_word2vec_rf_labels, new_final_minmax_word2vec_model_nbg.predict(test_final_minmax_word2vec_rf_df)), recall_score(test_final_minmax_word2vec_rf_labels, new_final_minmax_word2vec_model_nbg.predict(test_final_minmax_word2vec_rf_df)), f1_score(test_final_minmax_word2vec_rf_labels, new_final_minmax_word2vec_model_nbg.predict(test_final_minmax_word2vec_rf_df))],\n",
    "    ['Random Forest', accuracy_score(test_final_minmax_word2vec_rf_labels, new_final_minmax_word2vec_model_rf.predict(test_final_minmax_word2vec_rf_df)), precision_score(test_final_minmax_word2vec_rf_labels, new_final_minmax_word2vec_model_rf.predict(test_final_minmax_word2vec_rf_df)), recall_score(test_final_minmax_word2vec_rf_labels, new_final_minmax_word2vec_model_rf.predict(test_final_minmax_word2vec_rf_df)), f1_score(test_final_minmax_word2vec_rf_labels, new_final_minmax_word2vec_model_rf.predict(test_final_minmax_word2vec_rf_df))],\n",
    "])\n",
    "new_t"
   ]
  },
  {
   "cell_type": "code",
   "execution_count": null,
   "id": "762e08b5",
   "metadata": {},
   "outputs": [],
   "source": []
  },
  {
   "cell_type": "markdown",
   "id": "eafae0f7",
   "metadata": {},
   "source": [
    "## Random Forest based Doc2Vec 100 Model"
   ]
  },
  {
   "cell_type": "code",
   "execution_count": null,
   "id": "17c9b110",
   "metadata": {},
   "outputs": [],
   "source": [
    "new_tagged_data = [TaggedDocument(words=process_text(_d.lower()), tags=[str(i)]) for i, _d in enumerate(train_set['final_request_text'])]\n",
    "\n",
    "new_doc2vec_100_model = Doc2Vec(vector_size=100, min_count=2, epochs = 50)\n",
    "\n",
    "new_doc2vec_100_model.build_vocab(new_tagged_data)\n",
    "new_doc2vec_100_model.train(new_tagged_data, epochs=new_doc2vec_100_model.epochs, total_examples=new_doc2vec_100_model.corpus_count)\n",
    "\n",
    "new_doc2vec_100_v = np.row_stack([new_doc2vec_100_model.infer_vector(process_text(train_set['final_request_text'][x])) for x in range(len(train_set))])\n",
    "new_doc2vec_100_df = pd.DataFrame(new_doc2vec_100_v)\n",
    "new_doc2vec_100_labels = train_set['requester_received_pizza']\n",
    "\n",
    "# MODELING TO GET ESTIMATES AND USING \n",
    "# STRATIFIED CROSS-VALIDATION AS THE DATASET IS IMBALANCED\n",
    "\n",
    "new_skfold_doc2vec_100 = StratifiedKFold(n_splits = 5, shuffle=True, random_state=RANDOM_STATE)\n",
    "new_doc2vec_100_model_lr = LogisticRegression(class_weight = {0:1, 1:5}, random_state=RANDOM_STATE)\n",
    "new_doc2vec_100_model_nbg = GaussianNB()\n",
    "new_doc2vec_100_model_rf = RandomForestClassifier(n_estimators=590, min_samples_leaf=2, min_samples_split=2, max_features='sqrt',max_depth=50, bootstrap=False, random_state=RANDOM_STATE)\n",
    "\n",
    "new_doc2vec_100_model_lr_accuracy_score = []\n",
    "new_doc2vec_100_model_nbg_accuracy_score = []\n",
    "new_doc2vec_100_model_rf_accuracy_score = []\n",
    "\n",
    "for train_index, test_index in new_skfold_doc2vec_100.split(new_doc2vec_100_df, new_doc2vec_100_labels):\n",
    "    X_train, X_test = new_doc2vec_100_df.iloc[train_index,:], new_doc2vec_100_df.iloc[test_index,:]\n",
    "    y_train, y_test = new_doc2vec_100_labels[train_index], new_doc2vec_100_labels[test_index]\n",
    "    \n",
    "    new_doc2vec_100_model_lr.fit(X_train,y_train)\n",
    "    new_doc2vec_100_model_lr_accuracy_score.append(accuracy_score(y_test,new_doc2vec_100_model_lr.predict(X_test)))\n",
    "    \n",
    "    new_doc2vec_100_model_nbg.fit(X_train,y_train)\n",
    "    new_doc2vec_100_model_nbg_accuracy_score.append(accuracy_score(y_test,new_doc2vec_100_model_nbg.predict(X_test)))\n",
    "    \n",
    "    new_doc2vec_100_model_rf.fit(X_train,y_train)\n",
    "    new_doc2vec_100_model_rf_accuracy_score.append(accuracy_score(y_test,new_doc2vec_100_model_rf.predict(X_test)))\n",
    "\n",
    "t = PrettyTable()\n",
    "t.field_names = ['Model','Accuracy']\n",
    "t.add_rows([\n",
    "    ['Logistic Regression', mean(new_doc2vec_100_model_lr_accuracy_score)],\n",
    "    ['Gaussian NB', mean(new_doc2vec_100_model_nbg_accuracy_score)],\n",
    "    ['Random Forest', mean(new_doc2vec_100_model_rf_accuracy_score)]\n",
    "])\n",
    "t"
   ]
  },
  {
   "cell_type": "code",
   "execution_count": null,
   "id": "9e0545b8",
   "metadata": {},
   "outputs": [],
   "source": [
    "new_final_doc2vec_100_rf_df = final_train_set.copy()\n",
    "new_doc2vec_100_rf_est_prob = new_doc2vec_100_model_rf.predict_proba(new_doc2vec_100_df)[:,1]\n",
    "new_final_doc2vec_100_rf_df.insert(5,'prob_from_text',new_doc2vec_100_rf_est_prob)"
   ]
  },
  {
   "cell_type": "code",
   "execution_count": null,
   "id": "3bf9cc45",
   "metadata": {},
   "outputs": [],
   "source": [
    "new_final_doc2vec_100_rf_df = new_final_doc2vec_100_rf_df.sample(frac=1).reset_index(drop=True)\n",
    "new_final_doc2vec_100_rf_labels = new_final_doc2vec_100_rf_df.iloc[:,-1]\n",
    "new_final_doc2vec_100_rf_df = new_final_doc2vec_100_rf_df.iloc[:,:-1]\n",
    "new_final_doc2vec_100_rf_labels"
   ]
  },
  {
   "cell_type": "code",
   "execution_count": null,
   "id": "8de57a44",
   "metadata": {},
   "outputs": [],
   "source": [
    "new_skfold_final_doc2vec_100 = StratifiedKFold(n_splits = 5,shuffle=True, random_state=RANDOM_STATE)\n",
    "new_final_doc2vec_100_model_lr = LogisticRegression(class_weight = {0:1, 1:5}, random_state=RANDOM_STATE)\n",
    "new_final_doc2vec_100_model_nbg = GaussianNB()\n",
    "new_final_doc2vec_100_model_rf = RandomForestClassifier(n_estimators=590, min_samples_leaf=2, min_samples_split=2, max_features='sqrt',max_depth=50, bootstrap=False, random_state=RANDOM_STATE)\n",
    "\n",
    "new_final_doc2vec_100_model_lr_accuracy_score = []\n",
    "new_final_doc2vec_100_model_nbg_accuracy_score = []\n",
    "new_final_doc2vec_100_model_rf_accuracy_score = []\n",
    "\n",
    "new_final_doc2vec_100_model_lr_precision_score = []\n",
    "new_final_doc2vec_100_model_nbg_precision_score = []\n",
    "new_final_doc2vec_100_model_rf_precision_score = []\n",
    "\n",
    "new_final_doc2vec_100_model_lr_recall_score = []\n",
    "new_final_doc2vec_100_model_nbg_recall_score = []\n",
    "new_final_doc2vec_100_model_rf_recall_score = []\n",
    "\n",
    "new_final_doc2vec_100_model_lr_f1_score = []\n",
    "new_final_doc2vec_100_model_nbg_f1_score = []\n",
    "new_final_doc2vec_100_model_rf_f1_score = []\n",
    "\n",
    "\n",
    "for train_index, test_index in new_skfold_final_doc2vec_100.split(new_final_doc2vec_100_rf_df, new_final_doc2vec_100_rf_labels):\n",
    "    X_train, X_test = new_final_doc2vec_100_rf_df.iloc[train_index,:], new_final_doc2vec_100_rf_df.iloc[test_index,:]\n",
    "    y_train, y_test = new_final_doc2vec_100_rf_labels[train_index], new_final_doc2vec_100_rf_labels[test_index]\n",
    "    \n",
    "    new_final_doc2vec_100_model_lr.fit(X_train,y_train)\n",
    "    new_final_doc2vec_100_model_lr_accuracy_score.append(accuracy_score(y_test,new_final_doc2vec_100_model_lr.predict(X_test)))\n",
    "    new_final_doc2vec_100_model_lr_precision_score.append(precision_score(y_test,new_final_doc2vec_100_model_lr.predict(X_test)))\n",
    "    new_final_doc2vec_100_model_lr_recall_score.append(recall_score(y_test,new_final_doc2vec_100_model_lr.predict(X_test)))\n",
    "    new_final_doc2vec_100_model_lr_f1_score.append(f1_score(y_test,new_final_doc2vec_100_model_lr.predict(X_test)))\n",
    "    \n",
    "    new_final_doc2vec_100_model_nbg.fit(X_train,y_train)\n",
    "    new_final_doc2vec_100_model_nbg_accuracy_score.append(accuracy_score(y_test,new_final_doc2vec_100_model_nbg.predict(X_test)))\n",
    "    new_final_doc2vec_100_model_nbg_precision_score.append(precision_score(y_test,new_final_doc2vec_100_model_nbg.predict(X_test)))\n",
    "    new_final_doc2vec_100_model_nbg_recall_score.append(recall_score(y_test,new_final_doc2vec_100_model_nbg.predict(X_test)))\n",
    "    new_final_doc2vec_100_model_nbg_f1_score.append(f1_score(y_test,new_final_doc2vec_100_model_nbg.predict(X_test)))\n",
    "\n",
    "    new_final_doc2vec_100_model_rf.fit(X_train,y_train)\n",
    "    new_final_doc2vec_100_model_rf_accuracy_score.append(accuracy_score(y_test,new_final_doc2vec_100_model_rf.predict(X_test)))\n",
    "    new_final_doc2vec_100_model_rf_precision_score.append(precision_score(y_test,new_final_doc2vec_100_model_rf.predict(X_test)))\n",
    "    new_final_doc2vec_100_model_rf_recall_score.append(recall_score(y_test,new_final_doc2vec_100_model_rf.predict(X_test)))\n",
    "    new_final_doc2vec_100_model_rf_f1_score.append(f1_score(y_test,new_final_doc2vec_100_model_rf.predict(X_test)))\n",
    "\n",
    "t = PrettyTable()\n",
    "t.field_names = ['Model','Accuracy','Precision','Recall','F1-Score']\n",
    "t.add_rows([\n",
    "    ['Logistic Regression', mean(new_final_doc2vec_100_model_lr_accuracy_score),mean(new_final_doc2vec_100_model_lr_precision_score),mean(new_final_doc2vec_100_model_lr_recall_score),mean(new_final_doc2vec_100_model_lr_f1_score)],\n",
    "    ['Gaussian NB', mean(new_final_doc2vec_100_model_nbg_accuracy_score),mean(new_final_doc2vec_100_model_nbg_precision_score),mean(new_final_doc2vec_100_model_nbg_recall_score),mean(new_final_doc2vec_100_model_nbg_f1_score)],\n",
    "    ['Random Forest', mean(new_final_doc2vec_100_model_rf_accuracy_score),mean(new_final_doc2vec_100_model_rf_precision_score),mean(new_final_doc2vec_100_model_rf_recall_score),mean(new_final_doc2vec_100_model_rf_f1_score)],\n",
    "])\n",
    "t"
   ]
  },
  {
   "cell_type": "code",
   "execution_count": null,
   "id": "fdda77e4",
   "metadata": {},
   "outputs": [],
   "source": [
    "# using shapley values to understand importance of each feature\n",
    "doc2vec_100_explainer = shap.TreeExplainer(new_final_doc2vec_100_model_rf)\n",
    "doc2vec_100_shap_values = doc2vec_100_explainer.shap_values(X_test)\n",
    "shap.summary_plot(doc2vec_100_shap_values, X_test, plot_type=\"bar\")\n",
    "#plt.savefig('eps/FeatureImportanceShapley_doc2vec_100.eps',dpi=1200,bbox_inches='tight')"
   ]
  },
  {
   "cell_type": "code",
   "execution_count": null,
   "id": "96be84c5",
   "metadata": {},
   "outputs": [],
   "source": [
    "sorted_idx = new_final_doc2vec_100_model_rf.feature_importances_.argsort()\n",
    "plt.barh(new_final_doc2vec_100_rf_df.columns[sorted_idx], new_final_doc2vec_100_model_rf.feature_importances_[sorted_idx])"
   ]
  },
  {
   "cell_type": "code",
   "execution_count": null,
   "id": "03235ce5",
   "metadata": {},
   "outputs": [],
   "source": [
    "test_doc2vec_100_v = np.row_stack([new_doc2vec_100_model.infer_vector(process_text(test_set['final_request_text'][x])) for x in range(len(test_set))])\n",
    "test_doc2vec_100_df = pd.DataFrame(test_doc2vec_100_v)"
   ]
  },
  {
   "cell_type": "code",
   "execution_count": null,
   "id": "9b3b6714",
   "metadata": {},
   "outputs": [],
   "source": [
    "test_final_doc2vec_100_rf_df = final_test_set.copy()\n",
    "test_tfidf_doc2vec_100_est_prob = new_doc2vec_100_model_rf.predict_proba(test_doc2vec_100_df)[:,1]\n",
    "test_final_doc2vec_100_rf_df.insert(5,'prob_from_text',test_tfidf_doc2vec_100_est_prob)\n",
    "test_final_doc2vec_100_rf_df"
   ]
  },
  {
   "cell_type": "code",
   "execution_count": null,
   "id": "b5e8f7d5",
   "metadata": {},
   "outputs": [],
   "source": [
    "test_final_doc2vec_100_rf_df = test_final_doc2vec_100_rf_df.sample(frac=1).reset_index(drop=True)\n",
    "test_final_doc2vec_100_rf_labels = test_final_doc2vec_100_rf_df.iloc[:,-1]\n",
    "test_final_doc2vec_100_rf_df = test_final_doc2vec_100_rf_df.iloc[:,:-1]\n",
    "test_final_doc2vec_100_rf_labels"
   ]
  },
  {
   "cell_type": "code",
   "execution_count": null,
   "id": "43ce0676",
   "metadata": {},
   "outputs": [],
   "source": [
    "new_t = PrettyTable()\n",
    "new_t.field_names = ['Model','Accuracy','Precision','Recall','F1-Score']\n",
    "new_t.add_rows([\n",
    "    ['Logistic Regression', accuracy_score(test_final_doc2vec_100_rf_labels, new_final_doc2vec_100_model_lr.predict(test_final_doc2vec_100_rf_df)), precision_score(test_final_doc2vec_100_rf_labels, new_final_doc2vec_100_model_lr.predict(test_final_doc2vec_100_rf_df)), recall_score(test_final_doc2vec_100_rf_labels, new_final_doc2vec_100_model_lr.predict(test_final_doc2vec_100_rf_df)),f1_score(test_final_doc2vec_100_rf_labels, new_final_doc2vec_100_model_lr.predict(test_final_doc2vec_100_rf_df))],\n",
    "    ['Gaussian NB', accuracy_score(test_final_doc2vec_100_rf_labels, new_final_doc2vec_100_model_nbg.predict(test_final_doc2vec_100_rf_df)), precision_score(test_final_doc2vec_100_rf_labels, new_final_doc2vec_100_model_nbg.predict(test_final_doc2vec_100_rf_df)), recall_score(test_final_doc2vec_100_rf_labels, new_final_doc2vec_100_model_nbg.predict(test_final_doc2vec_100_rf_df)), f1_score(test_final_doc2vec_100_rf_labels, new_final_doc2vec_100_model_nbg.predict(test_final_doc2vec_100_rf_df))],\n",
    "    ['Random Forest', accuracy_score(test_final_doc2vec_100_rf_labels, new_final_doc2vec_100_model_rf.predict(test_final_doc2vec_100_rf_df)), precision_score(test_final_doc2vec_100_rf_labels, new_final_doc2vec_100_model_rf.predict(test_final_doc2vec_100_rf_df)), recall_score(test_final_doc2vec_100_rf_labels, new_final_doc2vec_100_model_rf.predict(test_final_doc2vec_100_rf_df)), f1_score(test_final_doc2vec_100_rf_labels, new_final_doc2vec_100_model_rf.predict(test_final_doc2vec_100_rf_df))],\n",
    "])\n",
    "new_t"
   ]
  },
  {
   "cell_type": "code",
   "execution_count": null,
   "id": "cfb626af",
   "metadata": {},
   "outputs": [],
   "source": []
  },
  {
   "cell_type": "markdown",
   "id": "e38428f6",
   "metadata": {},
   "source": [
    "## Random Forest based Doc2Vec 300 Model"
   ]
  },
  {
   "cell_type": "code",
   "execution_count": null,
   "id": "a448a1ed",
   "metadata": {},
   "outputs": [],
   "source": [
    "new_tagged_data = [TaggedDocument(words=process_text(_d.lower()), tags=[str(i)]) for i, _d in enumerate(train_set['final_request_text'])]\n",
    "\n",
    "new_doc2vec_300_model = Doc2Vec(vector_size=300, min_count=2, epochs = 50)\n",
    "\n",
    "new_doc2vec_300_model.build_vocab(new_tagged_data)\n",
    "new_doc2vec_300_model.train(new_tagged_data, epochs=new_doc2vec_300_model.epochs, total_examples=new_doc2vec_300_model.corpus_count)\n",
    "\n",
    "new_doc2vec_300_v = np.row_stack([new_doc2vec_300_model.infer_vector(process_text(train_set['final_request_text'][x])) for x in range(len(train_set))])\n",
    "new_doc2vec_300_df = pd.DataFrame(new_doc2vec_300_v)\n",
    "new_doc2vec_300_labels = train_set['requester_received_pizza']\n",
    "\n",
    "# MODELING TO GET ESTIMATES AND USING \n",
    "# STRATIFIED CROSS-VALIDATION AS THE DATASET IS IMBALANCED\n",
    "\n",
    "new_skfold_doc2vec_300 = StratifiedKFold(n_splits = 5, shuffle=True, random_state=RANDOM_STATE)\n",
    "new_doc2vec_300_model_lr = LogisticRegression(class_weight = {0:1, 1:5}, random_state=RANDOM_STATE)\n",
    "new_doc2vec_300_model_nbg = GaussianNB()\n",
    "new_doc2vec_300_model_rf = RandomForestClassifier(n_estimators=590, min_samples_leaf=2, min_samples_split=2, max_features='sqrt',max_depth=50, bootstrap=False, random_state=RANDOM_STATE)\n",
    "\n",
    "new_doc2vec_300_model_lr_accuracy_score = []\n",
    "new_doc2vec_300_model_nbg_accuracy_score = []\n",
    "new_doc2vec_300_model_rf_accuracy_score = []\n",
    "\n",
    "for train_index, test_index in new_skfold_doc2vec_300.split(new_doc2vec_300_df, new_doc2vec_300_labels):\n",
    "    X_train, X_test = new_doc2vec_300_df.iloc[train_index,:], new_doc2vec_300_df.iloc[test_index,:]\n",
    "    y_train, y_test = new_doc2vec_300_labels[train_index], new_doc2vec_300_labels[test_index]\n",
    "    \n",
    "    new_doc2vec_300_model_lr.fit(X_train,y_train)\n",
    "    new_doc2vec_300_model_lr_accuracy_score.append(accuracy_score(y_test,new_doc2vec_300_model_lr.predict(X_test)))\n",
    "    \n",
    "    new_doc2vec_300_model_nbg.fit(X_train,y_train)\n",
    "    new_doc2vec_300_model_nbg_accuracy_score.append(accuracy_score(y_test,new_doc2vec_300_model_nbg.predict(X_test)))\n",
    "    \n",
    "    new_doc2vec_300_model_rf.fit(X_train,y_train)\n",
    "    new_doc2vec_300_model_rf_accuracy_score.append(accuracy_score(y_test,new_doc2vec_300_model_rf.predict(X_test)))\n",
    "\n",
    "t = PrettyTable()\n",
    "t.field_names = ['Model','Accuracy']\n",
    "t.add_rows([\n",
    "    ['Logistic Regression', mean(new_doc2vec_300_model_lr_accuracy_score)],\n",
    "    ['Gaussian NB', mean(new_doc2vec_300_model_nbg_accuracy_score)],\n",
    "    ['Random Forest', mean(new_doc2vec_300_model_rf_accuracy_score)]\n",
    "])\n",
    "t"
   ]
  },
  {
   "cell_type": "code",
   "execution_count": null,
   "id": "343dda68",
   "metadata": {},
   "outputs": [],
   "source": [
    "new_final_doc2vec_300_rf_df = final_train_set.copy()\n",
    "new_doc2vec_300_rf_est_prob = new_doc2vec_300_model_rf.predict_proba(new_doc2vec_300_df)[:,1]\n",
    "new_final_doc2vec_300_rf_df.insert(5,'prob_from_text',new_doc2vec_300_rf_est_prob)"
   ]
  },
  {
   "cell_type": "code",
   "execution_count": null,
   "id": "a5ed1ee4",
   "metadata": {},
   "outputs": [],
   "source": [
    "new_final_doc2vec_300_rf_df = new_final_doc2vec_300_rf_df.sample(frac=1).reset_index(drop=True)\n",
    "new_final_doc2vec_300_rf_labels = new_final_doc2vec_300_rf_df.iloc[:,-1]\n",
    "new_final_doc2vec_300_rf_df = new_final_doc2vec_300_rf_df.iloc[:,:-1]\n",
    "new_final_doc2vec_300_rf_labels"
   ]
  },
  {
   "cell_type": "code",
   "execution_count": null,
   "id": "977ca9a9",
   "metadata": {},
   "outputs": [],
   "source": [
    "new_skfold_final_doc2vec_300 = StratifiedKFold(n_splits = 5, shuffle=True, random_state=RANDOM_STATE)\n",
    "new_final_doc2vec_300_model_lr = LogisticRegression(class_weight = {0:1, 1:5}, random_state=RANDOM_STATE)\n",
    "new_final_doc2vec_300_model_nbg = GaussianNB()\n",
    "new_final_doc2vec_300_model_rf = RandomForestClassifier(n_estimators=590, min_samples_leaf=2, min_samples_split=2, max_features='sqrt',max_depth=50, bootstrap=False, random_state=RANDOM_STATE)\n",
    "\n",
    "new_final_doc2vec_300_model_lr_accuracy_score = []\n",
    "new_final_doc2vec_300_model_nbg_accuracy_score = []\n",
    "new_final_doc2vec_300_model_rf_accuracy_score = []\n",
    "\n",
    "new_final_doc2vec_300_model_lr_precision_score = []\n",
    "new_final_doc2vec_300_model_nbg_precision_score = []\n",
    "new_final_doc2vec_300_model_rf_precision_score = []\n",
    "\n",
    "new_final_doc2vec_300_model_lr_recall_score = []\n",
    "new_final_doc2vec_300_model_nbg_recall_score = []\n",
    "new_final_doc2vec_300_model_rf_recall_score = []\n",
    "\n",
    "new_final_doc2vec_300_model_lr_f1_score = []\n",
    "new_final_doc2vec_300_model_nbg_f1_score = []\n",
    "new_final_doc2vec_300_model_rf_f1_score = []\n",
    "\n",
    "\n",
    "for train_index, test_index in new_skfold_final_doc2vec_300.split(new_final_doc2vec_300_rf_df, new_final_doc2vec_300_rf_labels):\n",
    "    X_train, X_test = new_final_doc2vec_300_rf_df.iloc[train_index,:], new_final_doc2vec_300_rf_df.iloc[test_index,:]\n",
    "    y_train, y_test = new_final_doc2vec_300_rf_labels[train_index], new_final_doc2vec_300_rf_labels[test_index]\n",
    "    \n",
    "    new_final_doc2vec_300_model_lr.fit(X_train,y_train)\n",
    "    new_final_doc2vec_300_model_lr_accuracy_score.append(accuracy_score(y_test,new_final_doc2vec_300_model_lr.predict(X_test)))\n",
    "    new_final_doc2vec_300_model_lr_precision_score.append(precision_score(y_test,new_final_doc2vec_300_model_lr.predict(X_test)))\n",
    "    new_final_doc2vec_300_model_lr_recall_score.append(recall_score(y_test,new_final_doc2vec_300_model_lr.predict(X_test)))\n",
    "    new_final_doc2vec_300_model_lr_f1_score.append(f1_score(y_test,new_final_doc2vec_300_model_lr.predict(X_test)))\n",
    "    \n",
    "    new_final_doc2vec_300_model_nbg.fit(X_train,y_train)\n",
    "    new_final_doc2vec_300_model_nbg_accuracy_score.append(accuracy_score(y_test,new_final_doc2vec_300_model_nbg.predict(X_test)))\n",
    "    new_final_doc2vec_300_model_nbg_precision_score.append(precision_score(y_test,new_final_doc2vec_300_model_nbg.predict(X_test)))\n",
    "    new_final_doc2vec_300_model_nbg_recall_score.append(recall_score(y_test,new_final_doc2vec_300_model_nbg.predict(X_test)))\n",
    "    new_final_doc2vec_300_model_nbg_f1_score.append(f1_score(y_test,new_final_doc2vec_300_model_nbg.predict(X_test)))\n",
    "\n",
    "    new_final_doc2vec_300_model_rf.fit(X_train,y_train)\n",
    "    new_final_doc2vec_300_model_rf_accuracy_score.append(accuracy_score(y_test,new_final_doc2vec_300_model_rf.predict(X_test)))\n",
    "    new_final_doc2vec_300_model_rf_precision_score.append(precision_score(y_test,new_final_doc2vec_300_model_rf.predict(X_test)))\n",
    "    new_final_doc2vec_300_model_rf_recall_score.append(recall_score(y_test,new_final_doc2vec_300_model_rf.predict(X_test)))\n",
    "    new_final_doc2vec_300_model_rf_f1_score.append(f1_score(y_test,new_final_doc2vec_300_model_rf.predict(X_test)))\n",
    "\n",
    "t = PrettyTable()\n",
    "t.field_names = ['Model','Accuracy','Precision','Recall','F1-Score']\n",
    "t.add_rows([\n",
    "    ['Logistic Regression', mean(new_final_doc2vec_300_model_lr_accuracy_score),mean(new_final_doc2vec_300_model_lr_precision_score),mean(new_final_doc2vec_300_model_lr_recall_score),mean(new_final_doc2vec_300_model_lr_f1_score)],\n",
    "    ['Gaussian NB', mean(new_final_doc2vec_300_model_nbg_accuracy_score),mean(new_final_doc2vec_300_model_nbg_precision_score),mean(new_final_doc2vec_300_model_nbg_recall_score),mean(new_final_doc2vec_300_model_nbg_f1_score)],\n",
    "    ['Random Forest', mean(new_final_doc2vec_300_model_rf_accuracy_score),mean(new_final_doc2vec_300_model_rf_precision_score),mean(new_final_doc2vec_300_model_rf_recall_score),mean(new_final_doc2vec_300_model_rf_f1_score)],\n",
    "])\n",
    "t"
   ]
  },
  {
   "cell_type": "code",
   "execution_count": null,
   "id": "ceefe176",
   "metadata": {},
   "outputs": [],
   "source": [
    "# using shapley values to understand importance of each feature\n",
    "doc2vec_300_explainer = shap.TreeExplainer(new_final_doc2vec_300_model_rf)\n",
    "doc2vec_300_shap_values = doc2vec_300_explainer.shap_values(X_test)\n",
    "shap.summary_plot(doc2vec_300_shap_values, X_test, plot_type=\"bar\")\n",
    "#plt.savefig('eps/FeatureImportanceShapley_doc2vec_300.eps',dpi=1200,bbox_inches='tight')"
   ]
  },
  {
   "cell_type": "code",
   "execution_count": null,
   "id": "37d88994",
   "metadata": {},
   "outputs": [],
   "source": [
    "sorted_idx = new_final_doc2vec_300_model_rf.feature_importances_.argsort()\n",
    "plt.barh(new_final_doc2vec_300_rf_df.columns[sorted_idx], new_final_doc2vec_300_model_rf.feature_importances_[sorted_idx])"
   ]
  },
  {
   "cell_type": "code",
   "execution_count": null,
   "id": "11e6a092",
   "metadata": {},
   "outputs": [],
   "source": [
    "test_doc2vec_300_v = np.row_stack([new_doc2vec_300_model.infer_vector(process_text(test_set['final_request_text'][x])) for x in range(len(test_set))])\n",
    "test_doc2vec_300_df = pd.DataFrame(test_doc2vec_300_v)"
   ]
  },
  {
   "cell_type": "code",
   "execution_count": null,
   "id": "0db8cdab",
   "metadata": {},
   "outputs": [],
   "source": [
    "test_final_doc2vec_300_rf_df = final_test_set.copy()\n",
    "test_tfidf_doc2vec_300_est_prob = new_doc2vec_300_model_rf.predict_proba(test_doc2vec_300_df)[:,1]\n",
    "test_final_doc2vec_300_rf_df.insert(5,'prob_from_text',test_tfidf_doc2vec_300_est_prob)\n",
    "test_final_doc2vec_300_rf_df"
   ]
  },
  {
   "cell_type": "code",
   "execution_count": null,
   "id": "de89663b",
   "metadata": {},
   "outputs": [],
   "source": [
    "test_final_doc2vec_300_rf_df = test_final_doc2vec_300_rf_df.sample(frac=1).reset_index(drop=True)\n",
    "test_final_doc2vec_300_rf_labels = test_final_doc2vec_300_rf_df.iloc[:,-1]\n",
    "test_final_doc2vec_300_rf_df = test_final_doc2vec_300_rf_df.iloc[:,:-1]\n",
    "test_final_doc2vec_300_rf_labels"
   ]
  },
  {
   "cell_type": "code",
   "execution_count": null,
   "id": "ca26c155",
   "metadata": {},
   "outputs": [],
   "source": [
    "new_t = PrettyTable()\n",
    "new_t.field_names = ['Model','Accuracy','Precision','Recall','F1-Score']\n",
    "new_t.add_rows([\n",
    "    ['Logistic Regression', accuracy_score(test_final_doc2vec_300_rf_labels, new_final_doc2vec_300_model_lr.predict(test_final_doc2vec_300_rf_df)), precision_score(test_final_doc2vec_300_rf_labels, new_final_doc2vec_300_model_lr.predict(test_final_doc2vec_300_rf_df)), recall_score(test_final_doc2vec_300_rf_labels, new_final_doc2vec_300_model_lr.predict(test_final_doc2vec_300_rf_df)),f1_score(test_final_doc2vec_300_rf_labels, new_final_doc2vec_300_model_lr.predict(test_final_doc2vec_300_rf_df))],\n",
    "    ['Gaussian NB', accuracy_score(test_final_doc2vec_300_rf_labels, new_final_doc2vec_300_model_nbg.predict(test_final_doc2vec_300_rf_df)), precision_score(test_final_doc2vec_300_rf_labels, new_final_doc2vec_300_model_nbg.predict(test_final_doc2vec_300_rf_df)), recall_score(test_final_doc2vec_300_rf_labels, new_final_doc2vec_300_model_nbg.predict(test_final_doc2vec_300_rf_df)), f1_score(test_final_doc2vec_300_rf_labels, new_final_doc2vec_300_model_nbg.predict(test_final_doc2vec_300_rf_df))],\n",
    "    ['Random Forest', accuracy_score(test_final_doc2vec_300_rf_labels, new_final_doc2vec_300_model_rf.predict(test_final_doc2vec_300_rf_df)), precision_score(test_final_doc2vec_300_rf_labels, new_final_doc2vec_300_model_rf.predict(test_final_doc2vec_300_rf_df)), recall_score(test_final_doc2vec_300_rf_labels, new_final_doc2vec_300_model_rf.predict(test_final_doc2vec_300_rf_df)), f1_score(test_final_doc2vec_300_rf_labels, new_final_doc2vec_300_model_rf.predict(test_final_doc2vec_300_rf_df))],\n",
    "])\n",
    "new_t"
   ]
  },
  {
   "cell_type": "code",
   "execution_count": null,
   "id": "b700f3ba",
   "metadata": {},
   "outputs": [],
   "source": [
    "# testing performance\n",
    "\n",
    "final_accuracy = pd.DataFrame({'Count Model':[\n",
    "                             100*accuracy_score(test_final_count_rf_labels, new_final_count_rf_model_lr.predict(test_final_count_rf_df)),\n",
    "                             100*accuracy_score(test_final_count_rf_labels, new_final_count_rf_model_nbg.predict(test_final_count_rf_df)),\n",
    "                             100*accuracy_score(test_final_count_rf_labels, new_final_count_rf_model_rf.predict(test_final_count_rf_df))\n",
    "                         ], \n",
    "                         'TF-IDF':[\n",
    "                             100*accuracy_score(test_final_tfidf_rf_labels, new_final_tfidf_rf_model_lr.predict(test_final_tfidf_rf_df)),\n",
    "                             100*accuracy_score(test_final_tfidf_rf_labels, new_final_tfidf_rf_model_nbg.predict(test_final_tfidf_rf_df)),\n",
    "                             100*accuracy_score(test_final_tfidf_rf_labels, new_final_tfidf_rf_model_rf.predict(test_final_tfidf_rf_df))\n",
    "                         ], \n",
    "                         'Min-Max Doc2Vec':[\n",
    "                             100*accuracy_score(test_final_minmax_word2vec_rf_labels, new_final_minmax_word2vec_model_lr.predict(test_final_minmax_word2vec_rf_df)),\n",
    "                             100*accuracy_score(test_final_minmax_word2vec_rf_labels, new_final_minmax_word2vec_model_nbg.predict(test_final_minmax_word2vec_rf_df)),\n",
    "                             100*accuracy_score(test_final_minmax_word2vec_rf_labels, new_final_minmax_word2vec_model_rf.predict(test_final_minmax_word2vec_rf_df))\n",
    "                         ],\n",
    "                         'Doc2Vec 100':[\n",
    "                             100*accuracy_score(test_final_doc2vec_100_rf_labels, new_final_doc2vec_100_model_lr.predict(test_final_doc2vec_100_rf_df)),\n",
    "                             100*accuracy_score(test_final_doc2vec_100_rf_labels, new_final_doc2vec_100_model_nbg.predict(test_final_doc2vec_100_rf_df)),\n",
    "                             100*accuracy_score(test_final_doc2vec_100_rf_labels, new_final_doc2vec_100_model_rf.predict(test_final_doc2vec_100_rf_df))\n",
    "                         ],\n",
    "                         'Doc2Vec 300':[\n",
    "                             100*accuracy_score(test_final_doc2vec_300_rf_labels, new_final_doc2vec_300_model_lr.predict(test_final_doc2vec_300_rf_df)),\n",
    "                             100*accuracy_score(test_final_doc2vec_300_rf_labels, new_final_doc2vec_300_model_nbg.predict(test_final_doc2vec_300_rf_df)),\n",
    "                             100*accuracy_score(test_final_doc2vec_300_rf_labels, new_final_doc2vec_300_model_rf.predict(test_final_doc2vec_300_rf_df))\n",
    "                         ]},\n",
    "                        index = ['LogReg','Gaussian NB','RF'])\n",
    "final_precision = pd.DataFrame({'Count Model':[\n",
    "                             100*precision_score(test_final_count_rf_labels, new_final_count_rf_model_lr.predict(test_final_count_rf_df)),\n",
    "                             100*precision_score(test_final_count_rf_labels, new_final_count_rf_model_nbg.predict(test_final_count_rf_df)),\n",
    "                             100*precision_score(test_final_count_rf_labels, new_final_count_rf_model_rf.predict(test_final_count_rf_df))\n",
    "                         ], \n",
    "                         'TF-IDF':[\n",
    "                             100*precision_score(test_final_tfidf_rf_labels, new_final_tfidf_rf_model_lr.predict(test_final_tfidf_rf_df)),\n",
    "                             100*precision_score(test_final_tfidf_rf_labels, new_final_tfidf_rf_model_nbg.predict(test_final_tfidf_rf_df)),\n",
    "                             100*precision_score(test_final_tfidf_rf_labels, new_final_tfidf_rf_model_rf.predict(test_final_tfidf_rf_df))\n",
    "                         ], \n",
    "                         'Min-Max Doc2Vec':[\n",
    "                             100*precision_score(test_final_minmax_word2vec_rf_labels, new_final_minmax_word2vec_model_lr.predict(test_final_minmax_word2vec_rf_df)),\n",
    "                             100*precision_score(test_final_minmax_word2vec_rf_labels, new_final_minmax_word2vec_model_nbg.predict(test_final_minmax_word2vec_rf_df)),\n",
    "                             100*precision_score(test_final_minmax_word2vec_rf_labels, new_final_minmax_word2vec_model_rf.predict(test_final_minmax_word2vec_rf_df))\n",
    "                         ],\n",
    "                         'Doc2Vec 100':[\n",
    "                             100*precision_score(test_final_doc2vec_100_rf_labels, new_final_doc2vec_100_model_lr.predict(test_final_doc2vec_100_rf_df)),\n",
    "                             100*precision_score(test_final_doc2vec_100_rf_labels, new_final_doc2vec_100_model_nbg.predict(test_final_doc2vec_100_rf_df)),\n",
    "                             100*precision_score(test_final_doc2vec_100_rf_labels, new_final_doc2vec_100_model_rf.predict(test_final_doc2vec_100_rf_df))\n",
    "                         ],\n",
    "                         'Doc2Vec 300':[\n",
    "                             100*precision_score(test_final_doc2vec_300_rf_labels, new_final_doc2vec_300_model_lr.predict(test_final_doc2vec_300_rf_df)),\n",
    "                             100*precision_score(test_final_doc2vec_300_rf_labels, new_final_doc2vec_300_model_nbg.predict(test_final_doc2vec_300_rf_df)),\n",
    "                             100*precision_score(test_final_doc2vec_300_rf_labels, new_final_doc2vec_300_model_rf.predict(test_final_doc2vec_300_rf_df))\n",
    "                         ]},\n",
    "                        index = ['LogReg','Gaussian NB','RF'])\n",
    "\n",
    "final_recall = pd.DataFrame({'Count Model':[\n",
    "                             100*recall_score(test_final_count_rf_labels, new_final_count_rf_model_lr.predict(test_final_count_rf_df)),\n",
    "                             100*recall_score(test_final_count_rf_labels, new_final_count_rf_model_nbg.predict(test_final_count_rf_df)),\n",
    "                             100*recall_score(test_final_count_rf_labels, new_final_count_rf_model_rf.predict(test_final_count_rf_df))\n",
    "                         ], \n",
    "                         'TF-IDF':[\n",
    "                             100*recall_score(test_final_tfidf_rf_labels, new_final_tfidf_rf_model_lr.predict(test_final_tfidf_rf_df)),\n",
    "                             100*recall_score(test_final_tfidf_rf_labels, new_final_tfidf_rf_model_nbg.predict(test_final_tfidf_rf_df)),\n",
    "                             100*recall_score(test_final_tfidf_rf_labels, new_final_tfidf_rf_model_rf.predict(test_final_tfidf_rf_df))\n",
    "                         ], \n",
    "                         'Min-Max Doc2Vec':[\n",
    "                             100*recall_score(test_final_minmax_word2vec_rf_labels, new_final_minmax_word2vec_model_lr.predict(test_final_minmax_word2vec_rf_df)),\n",
    "                             100*recall_score(test_final_minmax_word2vec_rf_labels, new_final_minmax_word2vec_model_nbg.predict(test_final_minmax_word2vec_rf_df)),\n",
    "                             100*recall_score(test_final_minmax_word2vec_rf_labels, new_final_minmax_word2vec_model_rf.predict(test_final_minmax_word2vec_rf_df))\n",
    "                         ],\n",
    "                         'Doc2Vec 100':[\n",
    "                             100*recall_score(test_final_doc2vec_100_rf_labels, new_final_doc2vec_100_model_lr.predict(test_final_doc2vec_100_rf_df)),\n",
    "                             100*recall_score(test_final_doc2vec_100_rf_labels, new_final_doc2vec_100_model_nbg.predict(test_final_doc2vec_100_rf_df)),\n",
    "                             100*recall_score(test_final_doc2vec_100_rf_labels, new_final_doc2vec_100_model_rf.predict(test_final_doc2vec_100_rf_df))\n",
    "                         ],\n",
    "                         'Doc2Vec 300':[\n",
    "                             100*recall_score(test_final_doc2vec_300_rf_labels, new_final_doc2vec_300_model_lr.predict(test_final_doc2vec_300_rf_df)),\n",
    "                             100*recall_score(test_final_doc2vec_300_rf_labels, new_final_doc2vec_300_model_nbg.predict(test_final_doc2vec_300_rf_df)),\n",
    "                             100*recall_score(test_final_doc2vec_300_rf_labels, new_final_doc2vec_300_model_rf.predict(test_final_doc2vec_300_rf_df))\n",
    "                         ]},\n",
    "                        index = ['LogReg','Gaussian NB','RF'])\n",
    "final_f1_score = pd.DataFrame({'Count Model':[\n",
    "                             100*f1_score(test_final_count_rf_labels, new_final_count_rf_model_lr.predict(test_final_count_rf_df)),\n",
    "                             100*f1_score(test_final_count_rf_labels, new_final_count_rf_model_nbg.predict(test_final_count_rf_df)),\n",
    "                             100*f1_score(test_final_count_rf_labels, new_final_count_rf_model_rf.predict(test_final_count_rf_df))\n",
    "                         ], \n",
    "                         'TF-IDF':[\n",
    "                             100*f1_score(test_final_tfidf_rf_labels, new_final_tfidf_rf_model_lr.predict(test_final_tfidf_rf_df)),\n",
    "                             100*f1_score(test_final_tfidf_rf_labels, new_final_tfidf_rf_model_nbg.predict(test_final_tfidf_rf_df)),\n",
    "                             100*f1_score(test_final_tfidf_rf_labels, new_final_tfidf_rf_model_rf.predict(test_final_tfidf_rf_df))\n",
    "                         ], \n",
    "                         'Min-Max Doc2Vec':[\n",
    "                             100*f1_score(test_final_minmax_word2vec_rf_labels, new_final_minmax_word2vec_model_lr.predict(test_final_minmax_word2vec_rf_df)),\n",
    "                             100*f1_score(test_final_minmax_word2vec_rf_labels, new_final_minmax_word2vec_model_nbg.predict(test_final_minmax_word2vec_rf_df)),\n",
    "                             100*f1_score(test_final_minmax_word2vec_rf_labels, new_final_minmax_word2vec_model_rf.predict(test_final_minmax_word2vec_rf_df))\n",
    "                         ],\n",
    "                         'Doc2Vec 100':[\n",
    "                             100*f1_score(test_final_doc2vec_100_rf_labels, new_final_doc2vec_100_model_lr.predict(test_final_doc2vec_100_rf_df)),\n",
    "                             100*f1_score(test_final_doc2vec_100_rf_labels, new_final_doc2vec_100_model_nbg.predict(test_final_doc2vec_100_rf_df)),\n",
    "                             100*f1_score(test_final_doc2vec_100_rf_labels, new_final_doc2vec_100_model_rf.predict(test_final_doc2vec_100_rf_df))\n",
    "                         ],\n",
    "                         'Doc2Vec 300':[\n",
    "                             100*f1_score(test_final_doc2vec_300_rf_labels, new_final_doc2vec_300_model_lr.predict(test_final_doc2vec_300_rf_df)),\n",
    "                             100*f1_score(test_final_doc2vec_300_rf_labels, new_final_doc2vec_300_model_nbg.predict(test_final_doc2vec_300_rf_df)),\n",
    "                             100*f1_score(test_final_doc2vec_300_rf_labels, new_final_doc2vec_300_model_rf.predict(test_final_doc2vec_300_rf_df))\n",
    "                         ]},\n",
    "                        index = ['LogReg','Gaussian NB','RF'])\n",
    "\n",
    "final_auc_roc = pd.DataFrame({'Count Model':[\n",
    "                             100*roc_auc_score(test_final_count_rf_labels, new_final_count_rf_model_lr.predict_proba(test_final_count_rf_df)[:, 1]),\n",
    "                             100*roc_auc_score(test_final_count_rf_labels, new_final_count_rf_model_nbg.predict_proba(test_final_count_rf_df)[:, 1]),\n",
    "                             100*roc_auc_score(test_final_count_rf_labels, new_final_count_rf_model_rf.predict_proba(test_final_count_rf_df)[:, 1])\n",
    "                         ], \n",
    "                         'TF-IDF':[\n",
    "                             100*roc_auc_score(test_final_tfidf_rf_labels, new_final_tfidf_rf_model_lr.predict_proba(test_final_tfidf_rf_df)[:, 1]),\n",
    "                             100*roc_auc_score(test_final_tfidf_rf_labels, new_final_tfidf_rf_model_nbg.predict_proba(test_final_tfidf_rf_df)[:, 1]),\n",
    "                             100*roc_auc_score(test_final_tfidf_rf_labels, new_final_tfidf_rf_model_rf.predict_proba(test_final_tfidf_rf_df)[:, 1])\n",
    "                         ],\n",
    "                         'Min-Max Doc2Vec':[\n",
    "                             100*roc_auc_score(test_final_minmax_word2vec_rf_labels, new_final_minmax_word2vec_model_lr.predict_proba(test_final_minmax_word2vec_rf_df)[:, 1]),\n",
    "                             100*roc_auc_score(test_final_minmax_word2vec_rf_labels, new_final_minmax_word2vec_model_nbg.predict_proba(test_final_minmax_word2vec_rf_df)[:, 1]),\n",
    "                             100*roc_auc_score(test_final_minmax_word2vec_rf_labels, new_final_minmax_word2vec_model_rf.predict_proba(test_final_minmax_word2vec_rf_df)[:, 1])\n",
    "                         ],\n",
    "                         'Doc2Vec 100':[\n",
    "                             100*roc_auc_score(test_final_doc2vec_100_rf_labels, new_final_doc2vec_100_model_lr.predict_proba(test_final_doc2vec_100_rf_df)[:, 1]),\n",
    "                             100*roc_auc_score(test_final_doc2vec_100_rf_labels, new_final_doc2vec_100_model_nbg.predict_proba(test_final_doc2vec_100_rf_df)[:, 1]),\n",
    "                             100*roc_auc_score(test_final_doc2vec_100_rf_labels, new_final_doc2vec_100_model_rf.predict_proba(test_final_doc2vec_100_rf_df)[:, 1])\n",
    "                         ],\n",
    "                         'Doc2Vec 300':[\n",
    "                             100*roc_auc_score(test_final_doc2vec_300_rf_labels, new_final_doc2vec_300_model_lr.predict_proba(test_final_doc2vec_300_rf_df)[:, 1]),\n",
    "                             100*roc_auc_score(test_final_doc2vec_300_rf_labels, new_final_doc2vec_300_model_nbg.predict_proba(test_final_doc2vec_300_rf_df)[:, 1]),\n",
    "                             100*roc_auc_score(test_final_doc2vec_300_rf_labels, new_final_doc2vec_300_model_rf.predict_proba(test_final_doc2vec_300_rf_df)[:, 1])\n",
    "                         ]},\n",
    "                        index = ['LogReg','Gaussian NB','RF'])\n",
    "\n",
    "final_auc_roc"
   ]
  },
  {
   "cell_type": "code",
   "execution_count": null,
   "id": "b65d1fb8",
   "metadata": {},
   "outputs": [],
   "source": [
    "final_accuracy"
   ]
  },
  {
   "cell_type": "code",
   "execution_count": null,
   "id": "8561adaf",
   "metadata": {
    "scrolled": false
   },
   "outputs": [],
   "source": [
    "font = {'family' : 'normal',\n",
    "        'weight' : 'bold',\n",
    "        'size'   : 12}\n",
    "\n",
    "plt.rc('font', **font)\n",
    "fig, ax = plt.subplots(2,2, figsize=(15,14))\n",
    "ax[0][0].plot(final_accuracy.index,final_accuracy.loc[final_accuracy.index,:], marker = 'o')\n",
    "ax[0][0].legend(final_accuracy.columns)\n",
    "ax[0][0].set_ylim(0,100)\n",
    "ax[0][0].set_title('Accuracy')\n",
    "ax[0][1].plot(final_precision.index,final_precision.loc[final_precision.index,:], marker = 'o')\n",
    "ax[0][1].legend(final_precision.columns)\n",
    "ax[0][1].set_ylim(0,100)\n",
    "ax[0][1].set_title('Precision')\n",
    "ax[1][0].plot(final_recall.index,final_recall.loc[final_recall.index,:], marker = 'o')\n",
    "ax[1][0].legend(final_recall.columns)\n",
    "ax[1][0].set_ylim(0,100)\n",
    "ax[1][0].set_title('Recall')\n",
    "ax[1][1].plot(final_f1_score.index,final_f1_score.loc[final_f1_score.index,:], marker = 'o')\n",
    "ax[1][1].legend(final_f1_score.columns)\n",
    "ax[1][1].set_ylim(0,100)\n",
    "ax[1][1].set_title('F-Score')\n",
    "fig.show()\n",
    "fig.savefig('eps/Final_Model_Performance.eps',dpi=1200, bbox_inches = 'tight')"
   ]
  },
  {
   "cell_type": "code",
   "execution_count": null,
   "id": "fc1ea48d",
   "metadata": {},
   "outputs": [],
   "source": [
    "plt.figure(figsize = (12,10))\n",
    "plt.plot(final_auc_roc.index,final_auc_roc.loc[final_auc_roc.index,:], marker = 'o')\n",
    "plt.legend(final_auc_roc.columns)\n",
    "plt.ylim(0,100)\n",
    "plt.title('AUC ROC Score')\n",
    "#plt.savefig('eps/Auc_Roc_Score_metric.eps', dpi = 1200, bbox_inches = 'tight')\n",
    "plt.show()"
   ]
  },
  {
   "cell_type": "code",
   "execution_count": null,
   "id": "491029f6",
   "metadata": {},
   "outputs": [],
   "source": []
  },
  {
   "cell_type": "markdown",
   "id": "6e0f0c82",
   "metadata": {},
   "source": [
    "### Graph for Text Models"
   ]
  },
  {
   "cell_type": "code",
   "execution_count": null,
   "id": "668e84aa",
   "metadata": {},
   "outputs": [],
   "source": [
    "text_accuracy_score = {'Count Model':[accuracy_score(final_test_set['requester_received_pizza'],new_count_model_lr.predict(test_count_df))*100,accuracy_score(final_test_set['requester_received_pizza'],new_count_model_nbg.predict(test_count_df.toarray()))*100,accuracy_score(final_test_set['requester_received_pizza'],new_count_model_rf.predict(test_count_df))*100], \n",
    "                       'TF-IDF':[accuracy_score(final_test_set['requester_received_pizza'],new_tfidf_model_lr.predict(test_tfidf_df))*100,accuracy_score(final_test_set['requester_received_pizza'],new_tfidf_model_nbg.predict(test_tfidf_df.toarray()))*100,accuracy_score(final_test_set['requester_received_pizza'],new_tfidf_model_rf.predict(test_tfidf_df))*100],\n",
    "                       'MinMax Word2Vec':[accuracy_score(final_test_set['requester_received_pizza'],new_minmax_word2vec_model_lr.predict(test_minmax_word2vec_df))*100,accuracy_score(final_test_set['requester_received_pizza'],new_minmax_word2vec_model_rf.predict(test_minmax_word2vec_df))*100,accuracy_score(final_test_set['requester_received_pizza'],new_minmax_word2vec_model_rf.predict(test_minmax_word2vec_df))*100],\n",
    "                       'Doc2Vec 100':[accuracy_score(final_test_set['requester_received_pizza'],new_doc2vec_100_model_lr.predict(test_doc2vec_100_df))*100,accuracy_score(final_test_set['requester_received_pizza'],new_doc2vec_100_model_nbg.predict(test_doc2vec_100_df))*100,accuracy_score(final_test_set['requester_received_pizza'],new_doc2vec_100_model_rf.predict(test_doc2vec_100_df))*100],\n",
    "                       'Doc2Vec 300':[accuracy_score(final_test_set['requester_received_pizza'],new_doc2vec_300_model_lr.predict(test_doc2vec_300_df))*100,accuracy_score(final_test_set['requester_received_pizza'],new_doc2vec_300_model_nbg.predict(test_doc2vec_300_df))*100,accuracy_score(final_test_set['requester_received_pizza'],new_doc2vec_300_model_rf.predict(test_doc2vec_300_df))*100]}\n",
    "plot_data = pd.DataFrame(text_accuracy_score, index=['Logistic Regression','Gaussian Naive Bayes','Random Forest'])\n",
    "\n",
    "fig = plt.figure(figsize=(10,5))\n",
    "plt.plot(plot_data.index,plot_data.loc[plot_data.index,:], marker = 'o')\n",
    "plt.ylim(40,100)\n",
    "plt.title('Comparison of Accuracy Score using different Text Embedding Methods')\n",
    "plt.xlabel('Models/Algorithms Used')\n",
    "plt.ylabel('Accuracy Score')\n",
    "plt.legend(plot_data.columns)\n",
    "#plt.savefig('eps/AccScoreTextModel.eps', dpi=1200,bbox_inches='tight')\n",
    "plt.show()"
   ]
  },
  {
   "cell_type": "code",
   "execution_count": null,
   "id": "3ade5225",
   "metadata": {},
   "outputs": [],
   "source": []
  },
  {
   "cell_type": "code",
   "execution_count": null,
   "id": "7ccf78e4",
   "metadata": {},
   "outputs": [],
   "source": [
    "final_accuracy"
   ]
  },
  {
   "cell_type": "code",
   "execution_count": null,
   "id": "aef27481",
   "metadata": {},
   "outputs": [],
   "source": [
    "final_recall"
   ]
  },
  {
   "cell_type": "code",
   "execution_count": null,
   "id": "1e04c8a9",
   "metadata": {},
   "outputs": [],
   "source": [
    "final_precision"
   ]
  },
  {
   "cell_type": "code",
   "execution_count": null,
   "id": "3525467c",
   "metadata": {},
   "outputs": [],
   "source": [
    "final_f1_score"
   ]
  },
  {
   "cell_type": "code",
   "execution_count": null,
   "id": "8a607a48",
   "metadata": {},
   "outputs": [],
   "source": []
  },
  {
   "cell_type": "code",
   "execution_count": null,
   "id": "c14c0a27",
   "metadata": {},
   "outputs": [],
   "source": [
    "import pickle\n",
    "\n",
    "pickle.dump(new_final_count_rf_model_lr, open(\"models/new_final_count_rf_model_lr.sav\", 'wb'))\n",
    "pickle.dump(new_final_count_rf_model_nbg, open(\"models/new_final_count_rf_model_nbg.sav\", 'wb'))\n",
    "pickle.dump(new_final_count_rf_model_rf, open(\"models/new_final_count_rf_model_rf.sav\", 'wb'))\n",
    "\n",
    "pickle.dump(new_final_tfidf_rf_model_lr, open(\"models/new_final_tfidf_rf_model_lr.sav\", 'wb'))\n",
    "pickle.dump(new_final_tfidf_rf_model_nbg, open(\"models/new_final_tfidf_rf_model_nbg.sav\", 'wb'))\n",
    "pickle.dump(new_final_tfidf_rf_model_rf, open(\"models/new_final_tfidf_rf_model_rf.sav\", 'wb'))\n",
    "\n",
    "pickle.dump(new_final_minmax_word2vec_model_lr, open(\"models/new_final_minmax_word2vec_model_lr.sav\", 'wb'))\n",
    "pickle.dump(new_final_minmax_word2vec_model_nbg, open(\"models/new_final_minmax_word2vec_model_nbg.sav\", 'wb'))\n",
    "pickle.dump(new_final_minmax_word2vec_model_rf, open(\"models/new_final_minmax_word2vec_model_rf.sav\", 'wb'))\n",
    "\n",
    "pickle.dump(new_final_doc2vec_100_model_lr, open(\"models/new_final_doc2vec_100_model_lr.sav\", 'wb'))\n",
    "pickle.dump(new_final_doc2vec_100_model_nbg, open(\"models/new_final_doc2vec_100_model_nbg.sav\", 'wb'))\n",
    "pickle.dump(new_final_doc2vec_100_model_rf, open(\"models/new_final_doc2vec_100_model_rf.sav\", 'wb'))\n",
    "\n",
    "pickle.dump(new_final_doc2vec_300_model_lr, open(\"models/new_final_doc2vec_300_model_lr.sav\", 'wb'))\n",
    "pickle.dump(new_final_doc2vec_300_model_nbg, open(\"models/new_final_doc2vec_300_model_nbg.sav\", 'wb'))\n",
    "pickle.dump(new_final_doc2vec_300_model_rf, open(\"models/new_final_doc2vec_300_model_rf.sav\", 'wb'))"
   ]
  },
  {
   "cell_type": "code",
   "execution_count": null,
   "id": "c67a2001",
   "metadata": {},
   "outputs": [],
   "source": [
    "pickle.dump(new_count_model_lr, open(\"models/new_count_model_lr.sav\", 'wb'))\n",
    "pickle.dump(new_count_model_nbg, open(\"models/new_count_model_nbg.sav\", 'wb'))\n",
    "pickle.dump(new_count_model_rf, open(\"models/new_count_model_rf.sav\", 'wb'))\n",
    "\n",
    "pickle.dump(new_tfidf_model_lr, open(\"models/new_tfidf_model_lr.sav\", 'wb'))\n",
    "pickle.dump(new_tfidf_model_nbg, open(\"models/new_tfidf_model_nbg.sav\", 'wb'))\n",
    "pickle.dump(new_tfidf_model_rf, open(\"models/new_tfidf_model_rf.sav\", 'wb'))\n",
    "\n",
    "pickle.dump(new_minmax_word2vec_model_lr, open(\"models/new_minmax_word2vec_model_lr.sav\", 'wb'))\n",
    "pickle.dump(new_minmax_word2vec_model_nbg, open(\"models/new_minmax_word2vec_model_nbg.sav\", 'wb'))\n",
    "pickle.dump(new_minmax_word2vec_model_rf, open(\"models/new_minmax_word2vec_model_rf.sav\", 'wb'))\n",
    "\n",
    "pickle.dump(new_doc2vec_100_model_lr, open(\"models/new_doc2vec_100_model_lr.sav\", 'wb'))\n",
    "pickle.dump(new_doc2vec_100_model_nbg, open(\"models/new_doc2vec_100_model_nbg.sav\", 'wb'))\n",
    "pickle.dump(new_doc2vec_100_model_rf, open(\"models/new_doc2vec_100_model_rf.sav\", 'wb'))\n",
    "\n",
    "pickle.dump(new_doc2vec_300_model_lr, open(\"models/new_doc2vec_300_model_lr.sav\", 'wb'))\n",
    "pickle.dump(new_doc2vec_300_model_nbg, open(\"models/new_doc2vec_300_model_nbg.sav\", 'wb'))\n",
    "pickle.dump(new_doc2vec_300_model_rf, open(\"models/new_doc2vec_300_model_rf.sav\", 'wb'))"
   ]
  },
  {
   "cell_type": "raw",
   "id": "6af80ac2",
   "metadata": {},
   "source": [
    "new_final_count_rf_model_lr = pickle.load(open(\"models/new_final_count_rf_model_lr.sav\", 'rb'))\n",
    "new_final_count_rf_model_nbg = pickle.load(open(\"models/new_final_count_rf_model_nbg.sav\", 'rb'))\n",
    "new_final_count_rf_model_rf = pickle.load(open(\"models/new_final_count_rf_model_rf.sav\", 'rb'))\n",
    "\n",
    "new_final_tfidf_rf_model_lr = pickle.load(open(\"models/new_final_tfidf_rf_model_lr.sav\", 'rb'))\n",
    "new_final_tfidf_rf_model_nbg = pickle.load(open(\"models/new_final_tfidf_rf_model_nbg.sav\", 'rb'))\n",
    "new_final_tfidf_rf_model_rf = pickle.load(open(\"models/new_final_tfidf_rf_model_rf.sav\", 'rb'))\n",
    "\n",
    "new_final_minmax_word2vec_model_lr = pickle.load(open(\"models/new_final_minmax_word2vec_model_lr.sav\", 'rb'))\n",
    "new_final_minmax_word2vec_model_nbg = pickle.load(open(\"models/new_final_minmax_word2vec_model_nbg.sav\", 'rb'))\n",
    "new_final_minmax_word2vec_model_rf = pickle.load(open(\"models/new_final_minmax_word2vec_model_rf.sav\", 'rb'))\n",
    "\n",
    "new_final_doc2vec_100_model_lr = pickle.load(open(\"models/new_final_doc2vec_100_model_lr.sav\", 'rb'))\n",
    "new_final_doc2vec_100_model_nbg = pickle.load(open(\"models/new_final_doc2vec_100_model_nbg.sav\", 'rb'))\n",
    "new_final_doc2vec_100_model_rf = pickle.load(open(\"models/new_final_doc2vec_100_model_rf.sav\", 'rb'))\n",
    "\n",
    "new_final_doc2vec_300_model_lr = pickle.load(open(\"models/new_final_doc2vec_100_model_lr.sav\", 'rb'))\n",
    "new_final_doc2vec_300_model_nbg = pickle.load(open(\"models/new_final_doc2vec_100_model_nbg.sav\", 'rb'))\n",
    "new_final_doc2vec_300_model_rf = pickle.load(open(\"models/new_final_doc2vec_100_model_rf.sav\", 'rb'))"
   ]
  },
  {
   "cell_type": "raw",
   "id": "1be44b93",
   "metadata": {},
   "source": [
    "new_count_model_lr = pickle.load(open(\"models/new_count_model_lr.sav\", 'rb'))\n",
    "new_count_model_nbg = pickle.load(open(\"models/new_count_model_nbg.sav\", 'rb'))\n",
    "new_count_model_rf = pickle.load(open(\"models/new_count_model_rf.sav\", 'rb'))\n",
    "\n",
    "new_tfidf_model_lr = pickle.load(open(\"models/new_tfidf_model_lr.sav\", 'rb'))\n",
    "new_tfidf_model_nbg = pickle.load(open(\"models/new_tfidf_model_nbg.sav\", 'rb'))\n",
    "new_tfidf_model_rf = pickle.load(open(\"models/new_tfidf_model_rf.sav\", 'rb'))\n",
    "\n",
    "new_minmax_word2vec_model_lr = pickle.load(open(\"models/new_minmax_word2vec_model_lr.sav\", 'rb'))\n",
    "new_minmax_word2vec_model_nbg = pickle.load(open(\"models/new_minmax_word2vec_model_nbg.sav\", 'rb'))\n",
    "new_minmax_word2vec_model_rf = pickle.load(open(\"models/new_minmax_word2vec_model_rf.sav\", 'rb'))\n",
    "\n",
    "new_doc2vec_100_model_lr = pickle.load(open(\"models/new_doc2vec_100_model_lr.sav\", 'rb'))\n",
    "new_doc2vec_100_model_nbg = pickle.load(open(\"models/new_doc2vec_100_model_nbg.sav\", 'rb'))\n",
    "new_doc2vec_100_model_rf = pickle.load(open(\"models/new_doc2vec_100_model_rf.sav\", 'rb'))\n",
    "\n",
    "new_doc2vec_300_model_lr = pickle.load(open(\"models/new_doc2vec_300_model_lr.sav\", 'rb'))\n",
    "new_doc2vec_300_model_nbg = pickle.load(open(\"models/new_doc2vec_300_model_nbg.sav\", 'rb'))\n",
    "new_doc2vec_300_model_rf = pickle.load(open(\"models/new_doc2vec_300_model_rf.sav\", 'rb'))"
   ]
  },
  {
   "cell_type": "code",
   "execution_count": null,
   "id": "39ffd893",
   "metadata": {},
   "outputs": [],
   "source": []
  }
 ],
 "metadata": {
  "kernelspec": {
   "display_name": "Python 3 (ipykernel)",
   "language": "python",
   "name": "python3"
  },
  "language_info": {
   "codemirror_mode": {
    "name": "ipython",
    "version": 3
   },
   "file_extension": ".py",
   "mimetype": "text/x-python",
   "name": "python",
   "nbconvert_exporter": "python",
   "pygments_lexer": "ipython3",
   "version": "3.8.2"
  }
 },
 "nbformat": 4,
 "nbformat_minor": 5
}
