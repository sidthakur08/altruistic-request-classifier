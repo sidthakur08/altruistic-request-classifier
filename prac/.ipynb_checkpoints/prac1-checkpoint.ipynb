{
 "cells": [
  {
   "cell_type": "code",
   "execution_count": 2,
   "id": "9217e5c6",
   "metadata": {},
   "outputs": [],
   "source": [
    "PATH = '/Users/siddhantthakur/pizza req/'\n",
    "\n",
    "import json"
   ]
  },
  {
   "cell_type": "code",
   "execution_count": 5,
   "id": "aa9e4a48",
   "metadata": {},
   "outputs": [],
   "source": [
    "with open(PATH + 'pizza_request_dataset/pizza_request_dataset.json', 'r') as f:\n",
    "    data = json.load(f)"
   ]
  },
  {
   "cell_type": "code",
   "execution_count": 8,
   "id": "33383e46",
   "metadata": {},
   "outputs": [
    {
     "data": {
      "text/plain": [
       "5671"
      ]
     },
     "execution_count": 8,
     "metadata": {},
     "output_type": "execute_result"
    }
   ],
   "source": [
    "len(data)"
   ]
  },
  {
   "cell_type": "code",
   "execution_count": 18,
   "id": "f19d85c7",
   "metadata": {
    "scrolled": true
   },
   "outputs": [
    {
     "data": {
      "text/plain": [
       "['giver_username_if_known',\n",
       " 'in_test_set',\n",
       " 'number_of_downvotes_of_request_at_retrieval',\n",
       " 'number_of_upvotes_of_request_at_retrieval',\n",
       " 'post_was_edited',\n",
       " 'request_id',\n",
       " 'request_number_of_comments_at_retrieval',\n",
       " 'request_text',\n",
       " 'request_text_edit_aware',\n",
       " 'request_title',\n",
       " 'requester_account_age_in_days_at_request',\n",
       " 'requester_account_age_in_days_at_retrieval',\n",
       " 'requester_days_since_first_post_on_raop_at_request',\n",
       " 'requester_days_since_first_post_on_raop_at_retrieval',\n",
       " 'requester_number_of_comments_at_request',\n",
       " 'requester_number_of_comments_at_retrieval',\n",
       " 'requester_number_of_comments_in_raop_at_request',\n",
       " 'requester_number_of_comments_in_raop_at_retrieval',\n",
       " 'requester_number_of_posts_at_request',\n",
       " 'requester_number_of_posts_at_retrieval',\n",
       " 'requester_number_of_posts_on_raop_at_request',\n",
       " 'requester_number_of_posts_on_raop_at_retrieval',\n",
       " 'requester_number_of_subreddits_at_request',\n",
       " 'requester_received_pizza',\n",
       " 'requester_subreddits_at_request',\n",
       " 'requester_upvotes_minus_downvotes_at_request',\n",
       " 'requester_upvotes_minus_downvotes_at_retrieval',\n",
       " 'requester_upvotes_plus_downvotes_at_request',\n",
       " 'requester_upvotes_plus_downvotes_at_retrieval',\n",
       " 'requester_user_flair',\n",
       " 'requester_username',\n",
       " 'unix_timestamp_of_request',\n",
       " 'unix_timestamp_of_request_utc']"
      ]
     },
     "execution_count": 18,
     "metadata": {},
     "output_type": "execute_result"
    }
   ],
   "source": [
    "sorted(data[0].keys())"
   ]
  },
  {
   "cell_type": "code",
   "execution_count": 17,
   "id": "d12d651b",
   "metadata": {},
   "outputs": [
    {
     "name": "stdout",
     "output_type": "stream",
     "text": [
      "Average Success Rate 24.634103332745546\n"
     ]
    }
   ],
   "source": [
    "success = [d['requester_received_pizza'] for d in data]\n",
    "print(\"Average Success Rate\",str(sum(success)/len(success)*100))\n",
    "\n",
    "#imbalanced dataset"
   ]
  },
  {
   "cell_type": "raw",
   "id": "1f73e6a0",
   "metadata": {},
   "source": [
    "need\n",
    "1. number_of_upvotes_of_request_at_retrieval - number_of_downvotes_of_request_at_retrieval\n",
    "2. request_text + request_title + request_text_edit_aware\n",
    "3. requester_account_age_in_days_at_request\n",
    ". requester_received_pizza"
   ]
  },
  {
   "cell_type": "code",
   "execution_count": 22,
   "id": "e84ae863",
   "metadata": {
    "scrolled": true
   },
   "outputs": [
    {
     "data": {
      "text/plain": [
       "{'giver_username_if_known': 'N/A',\n",
       " 'in_test_set': False,\n",
       " 'number_of_downvotes_of_request_at_retrieval': 2,\n",
       " 'number_of_upvotes_of_request_at_retrieval': 6,\n",
       " 'post_was_edited': False,\n",
       " 'request_id': 't3_w5491',\n",
       " 'request_number_of_comments_at_retrieval': 7,\n",
       " 'request_text': \"I'm not in College, or a starving artist or anything like that. I've just been a bit unlucky lately. I'm a 36 year old single guy with a job. But rent, and other bills killed me this month. I thought I had enough funds in my account to at least keep me set with Mr. Noodles, I forgot about my monthly banking fee.\\n\\nI had a small bag of chips Wednesday afternoon, and I get paid Monday, so I'll be fine then.. It's just really painful at this point and food is something I'm constantly thinking about.\\n\\nI've got a few bucks to get on the bus to work on Saturday, so I can't really use that.\\n\\nI'm really embarrassed to even be asking like this and I'm not sure how it works, so please be patient with me.\\n\\nI guess that covers it. Thank you in advance.\\n\\nCheers folks.\",\n",
       " 'request_text_edit_aware': \"I'm not in College, or a starving artist or anything like that. I've just been a bit unlucky lately. I'm a 36 year old single guy with a job. But rent, and other bills killed me this month. I thought I had enough funds in my account to at least keep me set with Mr. Noodles, I forgot about my monthly banking fee.\\n\\nI had a small bag of chips Wednesday afternoon, and I get paid Monday, so I'll be fine then.. It's just really painful at this point and food is something I'm constantly thinking about.\\n\\nI've got a few bucks to get on the bus to work on Saturday, so I can't really use that.\\n\\nI'm really embarrassed to even be asking like this and I'm not sure how it works, so please be patient with me.\\n\\nI guess that covers it. Thank you in advance.\\n\\nCheers folks.\",\n",
       " 'request_title': \"[Request] Ontario, Canada - On my 3rd of 5 days without food, and it's getting unbearable. Can anyone help?\",\n",
       " 'requester_account_age_in_days_at_request': 14.416875,\n",
       " 'requester_account_age_in_days_at_retrieval': 531.9697222222222,\n",
       " 'requester_days_since_first_post_on_raop_at_request': 0.0,\n",
       " 'requester_days_since_first_post_on_raop_at_retrieval': 517.5111805555556,\n",
       " 'requester_number_of_comments_at_request': 8,\n",
       " 'requester_number_of_comments_at_retrieval': 93,\n",
       " 'requester_number_of_comments_in_raop_at_request': 0,\n",
       " 'requester_number_of_comments_in_raop_at_retrieval': 4,\n",
       " 'requester_number_of_posts_at_request': 1,\n",
       " 'requester_number_of_posts_at_retrieval': 6,\n",
       " 'requester_number_of_posts_on_raop_at_request': 0,\n",
       " 'requester_number_of_posts_on_raop_at_retrieval': 2,\n",
       " 'requester_number_of_subreddits_at_request': 8,\n",
       " 'requester_received_pizza': True,\n",
       " 'requester_subreddits_at_request': ['AdviceAnimals',\n",
       "  'WTF',\n",
       "  'funny',\n",
       "  'gaming',\n",
       "  'movies',\n",
       "  'technology',\n",
       "  'todayilearned',\n",
       "  'videos'],\n",
       " 'requester_upvotes_minus_downvotes_at_request': 32,\n",
       " 'requester_upvotes_minus_downvotes_at_retrieval': 212,\n",
       " 'requester_upvotes_plus_downvotes_at_request': 48,\n",
       " 'requester_upvotes_plus_downvotes_at_retrieval': 610,\n",
       " 'requester_user_flair': 'shroom',\n",
       " 'requester_username': 'RitalinYourMemory',\n",
       " 'unix_timestamp_of_request': 1341604684.0,\n",
       " 'unix_timestamp_of_request_utc': 1341601084.0}"
      ]
     },
     "execution_count": 22,
     "metadata": {},
     "output_type": "execute_result"
    }
   ],
   "source": [
    "data[0]"
   ]
  },
  {
   "cell_type": "code",
   "execution_count": null,
   "id": "d83eae74",
   "metadata": {},
   "outputs": [],
   "source": []
  }
 ],
 "metadata": {
  "kernelspec": {
   "display_name": "Python 3 (ipykernel)",
   "language": "python",
   "name": "python3"
  },
  "language_info": {
   "codemirror_mode": {
    "name": "ipython",
    "version": 3
   },
   "file_extension": ".py",
   "mimetype": "text/x-python",
   "name": "python",
   "nbconvert_exporter": "python",
   "pygments_lexer": "ipython3",
   "version": "3.8.2"
  }
 },
 "nbformat": 4,
 "nbformat_minor": 5
}
