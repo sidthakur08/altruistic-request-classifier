{
 "cells": [
  {
   "cell_type": "code",
   "execution_count": 1,
   "id": "815a0ba9",
   "metadata": {},
   "outputs": [],
   "source": [
    "PATH = '/Users/siddhantthakur/pizza req/'\n",
    "\n",
    "import json\n",
    "import pandas as pd\n",
    "import numpy as np\n",
    "\n",
    "import matplotlib.pyplot as plt\n",
    "\n",
    "import nltk\n",
    "from nltk.tokenize import regexp_tokenize\n",
    "from nltk.corpus import stopwords\n",
    "from nltk.stem import WordNetLemmatizer\n",
    "import string\n",
    "import re\n",
    "\n",
    "from sklearn.linear_model import LogisticRegressionCV\n",
    "from sklearn.feature_extraction.text import CountVectorizer, TfidfVectorizer\n",
    "from sklearn.model_selection import train_test_split\n",
    "from gensim.models import KeyedVectors\n",
    "from sentence_transformers import SentenceTransformer\n",
    "\n",
    "import warnings\n",
    "warnings.filterwarnings(\"ignore\")\n",
    "\n",
    "np.set_printoptions(suppress=True)"
   ]
  },
  {
   "cell_type": "code",
   "execution_count": 2,
   "id": "df2cf4ce",
   "metadata": {},
   "outputs": [],
   "source": [
    "# certificate verification fail\n",
    "\n",
    "import ssl\n",
    "\n",
    "try:\n",
    "    _create_unverified_https_context = ssl._create_unverified_context\n",
    "except AttributeError:\n",
    "    pass\n",
    "else:\n",
    "    ssl._create_default_https_context = _create_unverified_https_context"
   ]
  },
  {
   "cell_type": "code",
   "execution_count": 3,
   "id": "5e85027b",
   "metadata": {},
   "outputs": [
    {
     "name": "stderr",
     "output_type": "stream",
     "text": [
      "[nltk_data] Downloading package stopwords to\n",
      "[nltk_data]     /Users/siddhantthakur/nltk_data...\n",
      "[nltk_data]   Package stopwords is already up-to-date!\n",
      "[nltk_data] Downloading package wordnet to\n",
      "[nltk_data]     /Users/siddhantthakur/nltk_data...\n",
      "[nltk_data]   Package wordnet is already up-to-date!\n",
      "[nltk_data] Downloading package omw-1.4 to\n",
      "[nltk_data]     /Users/siddhantthakur/nltk_data...\n",
      "[nltk_data]   Package omw-1.4 is already up-to-date!\n"
     ]
    },
    {
     "data": {
      "text/plain": [
       "True"
      ]
     },
     "execution_count": 3,
     "metadata": {},
     "output_type": "execute_result"
    }
   ],
   "source": [
    "nltk.download('stopwords')\n",
    "nltk.download('wordnet')\n",
    "nltk.download('omw-1.4')"
   ]
  },
  {
   "cell_type": "code",
   "execution_count": 4,
   "id": "33942d24",
   "metadata": {},
   "outputs": [],
   "source": [
    "with open(PATH + 'pizza_request_dataset/pizza_request_dataset.json', 'r') as f:\n",
    "    data = json.load(f)"
   ]
  },
  {
   "cell_type": "code",
   "execution_count": 5,
   "id": "21620f33",
   "metadata": {},
   "outputs": [
    {
     "data": {
      "text/plain": [
       "5671"
      ]
     },
     "execution_count": 5,
     "metadata": {},
     "output_type": "execute_result"
    }
   ],
   "source": [
    "len(data)"
   ]
  },
  {
   "cell_type": "code",
   "execution_count": 6,
   "id": "ccaecfc3",
   "metadata": {
    "scrolled": false
   },
   "outputs": [
    {
     "data": {
      "text/plain": [
       "['giver_username_if_known',\n",
       " 'in_test_set',\n",
       " 'number_of_downvotes_of_request_at_retrieval',\n",
       " 'number_of_upvotes_of_request_at_retrieval',\n",
       " 'post_was_edited',\n",
       " 'request_id',\n",
       " 'request_number_of_comments_at_retrieval',\n",
       " 'request_text',\n",
       " 'request_text_edit_aware',\n",
       " 'request_title',\n",
       " 'requester_account_age_in_days_at_request',\n",
       " 'requester_account_age_in_days_at_retrieval',\n",
       " 'requester_days_since_first_post_on_raop_at_request',\n",
       " 'requester_days_since_first_post_on_raop_at_retrieval',\n",
       " 'requester_number_of_comments_at_request',\n",
       " 'requester_number_of_comments_at_retrieval',\n",
       " 'requester_number_of_comments_in_raop_at_request',\n",
       " 'requester_number_of_comments_in_raop_at_retrieval',\n",
       " 'requester_number_of_posts_at_request',\n",
       " 'requester_number_of_posts_at_retrieval',\n",
       " 'requester_number_of_posts_on_raop_at_request',\n",
       " 'requester_number_of_posts_on_raop_at_retrieval',\n",
       " 'requester_number_of_subreddits_at_request',\n",
       " 'requester_received_pizza',\n",
       " 'requester_subreddits_at_request',\n",
       " 'requester_upvotes_minus_downvotes_at_request',\n",
       " 'requester_upvotes_minus_downvotes_at_retrieval',\n",
       " 'requester_upvotes_plus_downvotes_at_request',\n",
       " 'requester_upvotes_plus_downvotes_at_retrieval',\n",
       " 'requester_user_flair',\n",
       " 'requester_username',\n",
       " 'unix_timestamp_of_request',\n",
       " 'unix_timestamp_of_request_utc']"
      ]
     },
     "execution_count": 6,
     "metadata": {},
     "output_type": "execute_result"
    }
   ],
   "source": [
    "sorted(data[0].keys())"
   ]
  },
  {
   "cell_type": "code",
   "execution_count": 7,
   "id": "c2c428e6",
   "metadata": {},
   "outputs": [
    {
     "name": "stdout",
     "output_type": "stream",
     "text": [
      "Average Success Rate 24.634103332745546\n"
     ]
    }
   ],
   "source": [
    "success = [d['requester_received_pizza'] for d in data]\n",
    "print(\"Average Success Rate\",str(sum(success)/len(success)*100))"
   ]
  },
  {
   "cell_type": "raw",
   "id": "5fd4ac7a",
   "metadata": {},
   "source": [
    "need\n",
    "\n",
    "MODEL 1 (no knn or svm)\n",
    "sparse_data_from_(request_title + request_text_edit_aware) ~ requester_received_pizza\n",
    "\n",
    "MODEL 2\n",
    "1. prob_from_model_1\n",
    "2. number_of_upvotes_of_request_at_retrieval - number_of_downvotes_of_request_at_retrieval\n",
    "3. requester_account_age_in_days_at_request\n",
    "4. length --> (len(request_text_edit_aware))\n",
    "5. request_number_of_comments_at_retrieval\n",
    "6. unix_timestamp_of_request\n",
    "7. image/link available (evidence)\n",
    "8. maybe sentiment based feature?\n",
    "\n",
    "    ~ requester_received_pizza"
   ]
  },
  {
   "cell_type": "code",
   "execution_count": 8,
   "id": "517f7e71",
   "metadata": {},
   "outputs": [],
   "source": [
    "for d in data:\n",
    "    d['upvotes_minus_downvotes'] = d['number_of_upvotes_of_request_at_retrieval'] - d['number_of_downvotes_of_request_at_retrieval']\n",
    "\n",
    "for d in data:\n",
    "    d['final_request_text'] = d['request_title'] + \" \" + d['request_text_edit_aware']"
   ]
  },
  {
   "cell_type": "code",
   "execution_count": 9,
   "id": "907a4aa0",
   "metadata": {
    "scrolled": true
   },
   "outputs": [
    {
     "data": {
      "text/plain": [
       "{'giver_username_if_known': 'N/A',\n",
       " 'in_test_set': False,\n",
       " 'number_of_downvotes_of_request_at_retrieval': 2,\n",
       " 'number_of_upvotes_of_request_at_retrieval': 6,\n",
       " 'post_was_edited': False,\n",
       " 'request_id': 't3_w5491',\n",
       " 'request_number_of_comments_at_retrieval': 7,\n",
       " 'request_text': \"I'm not in College, or a starving artist or anything like that. I've just been a bit unlucky lately. I'm a 36 year old single guy with a job. But rent, and other bills killed me this month. I thought I had enough funds in my account to at least keep me set with Mr. Noodles, I forgot about my monthly banking fee.\\n\\nI had a small bag of chips Wednesday afternoon, and I get paid Monday, so I'll be fine then.. It's just really painful at this point and food is something I'm constantly thinking about.\\n\\nI've got a few bucks to get on the bus to work on Saturday, so I can't really use that.\\n\\nI'm really embarrassed to even be asking like this and I'm not sure how it works, so please be patient with me.\\n\\nI guess that covers it. Thank you in advance.\\n\\nCheers folks.\",\n",
       " 'request_text_edit_aware': \"I'm not in College, or a starving artist or anything like that. I've just been a bit unlucky lately. I'm a 36 year old single guy with a job. But rent, and other bills killed me this month. I thought I had enough funds in my account to at least keep me set with Mr. Noodles, I forgot about my monthly banking fee.\\n\\nI had a small bag of chips Wednesday afternoon, and I get paid Monday, so I'll be fine then.. It's just really painful at this point and food is something I'm constantly thinking about.\\n\\nI've got a few bucks to get on the bus to work on Saturday, so I can't really use that.\\n\\nI'm really embarrassed to even be asking like this and I'm not sure how it works, so please be patient with me.\\n\\nI guess that covers it. Thank you in advance.\\n\\nCheers folks.\",\n",
       " 'request_title': \"[Request] Ontario, Canada - On my 3rd of 5 days without food, and it's getting unbearable. Can anyone help?\",\n",
       " 'requester_account_age_in_days_at_request': 14.416875,\n",
       " 'requester_account_age_in_days_at_retrieval': 531.9697222222222,\n",
       " 'requester_days_since_first_post_on_raop_at_request': 0.0,\n",
       " 'requester_days_since_first_post_on_raop_at_retrieval': 517.5111805555556,\n",
       " 'requester_number_of_comments_at_request': 8,\n",
       " 'requester_number_of_comments_at_retrieval': 93,\n",
       " 'requester_number_of_comments_in_raop_at_request': 0,\n",
       " 'requester_number_of_comments_in_raop_at_retrieval': 4,\n",
       " 'requester_number_of_posts_at_request': 1,\n",
       " 'requester_number_of_posts_at_retrieval': 6,\n",
       " 'requester_number_of_posts_on_raop_at_request': 0,\n",
       " 'requester_number_of_posts_on_raop_at_retrieval': 2,\n",
       " 'requester_number_of_subreddits_at_request': 8,\n",
       " 'requester_received_pizza': True,\n",
       " 'requester_subreddits_at_request': ['AdviceAnimals',\n",
       "  'WTF',\n",
       "  'funny',\n",
       "  'gaming',\n",
       "  'movies',\n",
       "  'technology',\n",
       "  'todayilearned',\n",
       "  'videos'],\n",
       " 'requester_upvotes_minus_downvotes_at_request': 32,\n",
       " 'requester_upvotes_minus_downvotes_at_retrieval': 212,\n",
       " 'requester_upvotes_plus_downvotes_at_request': 48,\n",
       " 'requester_upvotes_plus_downvotes_at_retrieval': 610,\n",
       " 'requester_user_flair': 'shroom',\n",
       " 'requester_username': 'RitalinYourMemory',\n",
       " 'unix_timestamp_of_request': 1341604684.0,\n",
       " 'unix_timestamp_of_request_utc': 1341601084.0,\n",
       " 'upvotes_minus_downvotes': 4,\n",
       " 'final_request_text': \"[Request] Ontario, Canada - On my 3rd of 5 days without food, and it's getting unbearable. Can anyone help? I'm not in College, or a starving artist or anything like that. I've just been a bit unlucky lately. I'm a 36 year old single guy with a job. But rent, and other bills killed me this month. I thought I had enough funds in my account to at least keep me set with Mr. Noodles, I forgot about my monthly banking fee.\\n\\nI had a small bag of chips Wednesday afternoon, and I get paid Monday, so I'll be fine then.. It's just really painful at this point and food is something I'm constantly thinking about.\\n\\nI've got a few bucks to get on the bus to work on Saturday, so I can't really use that.\\n\\nI'm really embarrassed to even be asking like this and I'm not sure how it works, so please be patient with me.\\n\\nI guess that covers it. Thank you in advance.\\n\\nCheers folks.\"}"
      ]
     },
     "execution_count": 9,
     "metadata": {},
     "output_type": "execute_result"
    }
   ],
   "source": [
    "data[0]"
   ]
  },
  {
   "cell_type": "code",
   "execution_count": 10,
   "id": "ca43261e",
   "metadata": {},
   "outputs": [
    {
     "data": {
      "text/html": [
       "<div>\n",
       "<style scoped>\n",
       "    .dataframe tbody tr th:only-of-type {\n",
       "        vertical-align: middle;\n",
       "    }\n",
       "\n",
       "    .dataframe tbody tr th {\n",
       "        vertical-align: top;\n",
       "    }\n",
       "\n",
       "    .dataframe thead th {\n",
       "        text-align: right;\n",
       "    }\n",
       "</style>\n",
       "<table border=\"1\" class=\"dataframe\">\n",
       "  <thead>\n",
       "    <tr style=\"text-align: right;\">\n",
       "      <th></th>\n",
       "      <th>giver_username_if_known</th>\n",
       "      <th>in_test_set</th>\n",
       "      <th>number_of_downvotes_of_request_at_retrieval</th>\n",
       "      <th>number_of_upvotes_of_request_at_retrieval</th>\n",
       "      <th>post_was_edited</th>\n",
       "      <th>request_id</th>\n",
       "      <th>request_number_of_comments_at_retrieval</th>\n",
       "      <th>request_text</th>\n",
       "      <th>request_text_edit_aware</th>\n",
       "      <th>request_title</th>\n",
       "      <th>...</th>\n",
       "      <th>requester_upvotes_minus_downvotes_at_request</th>\n",
       "      <th>requester_upvotes_minus_downvotes_at_retrieval</th>\n",
       "      <th>requester_upvotes_plus_downvotes_at_request</th>\n",
       "      <th>requester_upvotes_plus_downvotes_at_retrieval</th>\n",
       "      <th>requester_user_flair</th>\n",
       "      <th>requester_username</th>\n",
       "      <th>unix_timestamp_of_request</th>\n",
       "      <th>unix_timestamp_of_request_utc</th>\n",
       "      <th>upvotes_minus_downvotes</th>\n",
       "      <th>final_request_text</th>\n",
       "    </tr>\n",
       "  </thead>\n",
       "  <tbody>\n",
       "    <tr>\n",
       "      <th>0</th>\n",
       "      <td>N/A</td>\n",
       "      <td>False</td>\n",
       "      <td>1</td>\n",
       "      <td>2</td>\n",
       "      <td>False</td>\n",
       "      <td>t3_xdtyq</td>\n",
       "      <td>1</td>\n",
       "      <td>Tomorrow I have a pretty stressful day ahead o...</td>\n",
       "      <td>Tomorrow I have a pretty stressful day ahead o...</td>\n",
       "      <td>[REQUEST] Dallas TX: Super Stressful Day</td>\n",
       "      <td>...</td>\n",
       "      <td>2384</td>\n",
       "      <td>5429</td>\n",
       "      <td>4068</td>\n",
       "      <td>8561</td>\n",
       "      <td>None</td>\n",
       "      <td>proFRESHional</td>\n",
       "      <td>1.343642e+09</td>\n",
       "      <td>1.343639e+09</td>\n",
       "      <td>1</td>\n",
       "      <td>[REQUEST] Dallas TX: Super Stressful Day Tomor...</td>\n",
       "    </tr>\n",
       "    <tr>\n",
       "      <th>1</th>\n",
       "      <td>N/A</td>\n",
       "      <td>False</td>\n",
       "      <td>4</td>\n",
       "      <td>10</td>\n",
       "      <td>False</td>\n",
       "      <td>t3_iaeiq</td>\n",
       "      <td>7</td>\n",
       "      <td>[This posting](http://www.reddit.com/r/Frugal/...</td>\n",
       "      <td>[This posting](http://www.reddit.com/r/Frugal/...</td>\n",
       "      <td>[REQUEST] Pizza for /r/frugal redditor katehaw...</td>\n",
       "      <td>...</td>\n",
       "      <td>819</td>\n",
       "      <td>36514</td>\n",
       "      <td>1189</td>\n",
       "      <td>72756</td>\n",
       "      <td>None</td>\n",
       "      <td>DodongoDislikesSmoke</td>\n",
       "      <td>1.309193e+09</td>\n",
       "      <td>1.309189e+09</td>\n",
       "      <td>6</td>\n",
       "      <td>[REQUEST] Pizza for /r/frugal redditor katehaw...</td>\n",
       "    </tr>\n",
       "    <tr>\n",
       "      <th>2</th>\n",
       "      <td>N/A</td>\n",
       "      <td>True</td>\n",
       "      <td>5</td>\n",
       "      <td>13</td>\n",
       "      <td>False</td>\n",
       "      <td>t3_1jd4uk</td>\n",
       "      <td>8</td>\n",
       "      <td>Hello. This is my first time on this subreddit...</td>\n",
       "      <td>Hello. This is my first time on this subreddit...</td>\n",
       "      <td>[Request] Would enjoy some pizza. Have nothing...</td>\n",
       "      <td>...</td>\n",
       "      <td>17042</td>\n",
       "      <td>23171</td>\n",
       "      <td>66866</td>\n",
       "      <td>79055</td>\n",
       "      <td>shroom</td>\n",
       "      <td>stormclaw11</td>\n",
       "      <td>1.375212e+09</td>\n",
       "      <td>1.375209e+09</td>\n",
       "      <td>8</td>\n",
       "      <td>[Request] Would enjoy some pizza. Have nothing...</td>\n",
       "    </tr>\n",
       "    <tr>\n",
       "      <th>3</th>\n",
       "      <td>N/A</td>\n",
       "      <td>False</td>\n",
       "      <td>1</td>\n",
       "      <td>1</td>\n",
       "      <td>False</td>\n",
       "      <td>t3_1l7avh</td>\n",
       "      <td>0</td>\n",
       "      <td>I'm in my freshman year of college. I moved ou...</td>\n",
       "      <td>I'm in my freshman year of college. I moved ou...</td>\n",
       "      <td>[Request] Jobless college kid wants some pizza</td>\n",
       "      <td>...</td>\n",
       "      <td>2804</td>\n",
       "      <td>3058</td>\n",
       "      <td>4246</td>\n",
       "      <td>4794</td>\n",
       "      <td>None</td>\n",
       "      <td>Bearjewbacca</td>\n",
       "      <td>1.377631e+09</td>\n",
       "      <td>1.377627e+09</td>\n",
       "      <td>0</td>\n",
       "      <td>[Request] Jobless college kid wants some pizza...</td>\n",
       "    </tr>\n",
       "    <tr>\n",
       "      <th>4</th>\n",
       "      <td>N/A</td>\n",
       "      <td>False</td>\n",
       "      <td>2</td>\n",
       "      <td>2</td>\n",
       "      <td>1363299991.0</td>\n",
       "      <td>t3_1ab9wo</td>\n",
       "      <td>4</td>\n",
       "      <td>(Tennessee USA) It is a day to celebrate after...</td>\n",
       "      <td>(Tennessee USA) It is a day to celebrate after...</td>\n",
       "      <td>[Request] US Married couple in between jobs wo...</td>\n",
       "      <td>...</td>\n",
       "      <td>521</td>\n",
       "      <td>555</td>\n",
       "      <td>865</td>\n",
       "      <td>921</td>\n",
       "      <td>shroom</td>\n",
       "      <td>lexifus</td>\n",
       "      <td>1.363303e+09</td>\n",
       "      <td>1.363300e+09</td>\n",
       "      <td>0</td>\n",
       "      <td>[Request] US Married couple in between jobs wo...</td>\n",
       "    </tr>\n",
       "  </tbody>\n",
       "</table>\n",
       "<p>5 rows × 35 columns</p>\n",
       "</div>"
      ],
      "text/plain": [
       "  giver_username_if_known  in_test_set  \\\n",
       "0                     N/A        False   \n",
       "1                     N/A        False   \n",
       "2                     N/A         True   \n",
       "3                     N/A        False   \n",
       "4                     N/A        False   \n",
       "\n",
       "   number_of_downvotes_of_request_at_retrieval  \\\n",
       "0                                            1   \n",
       "1                                            4   \n",
       "2                                            5   \n",
       "3                                            1   \n",
       "4                                            2   \n",
       "\n",
       "   number_of_upvotes_of_request_at_retrieval post_was_edited request_id  \\\n",
       "0                                          2           False   t3_xdtyq   \n",
       "1                                         10           False   t3_iaeiq   \n",
       "2                                         13           False  t3_1jd4uk   \n",
       "3                                          1           False  t3_1l7avh   \n",
       "4                                          2    1363299991.0  t3_1ab9wo   \n",
       "\n",
       "   request_number_of_comments_at_retrieval  \\\n",
       "0                                        1   \n",
       "1                                        7   \n",
       "2                                        8   \n",
       "3                                        0   \n",
       "4                                        4   \n",
       "\n",
       "                                        request_text  \\\n",
       "0  Tomorrow I have a pretty stressful day ahead o...   \n",
       "1  [This posting](http://www.reddit.com/r/Frugal/...   \n",
       "2  Hello. This is my first time on this subreddit...   \n",
       "3  I'm in my freshman year of college. I moved ou...   \n",
       "4  (Tennessee USA) It is a day to celebrate after...   \n",
       "\n",
       "                             request_text_edit_aware  \\\n",
       "0  Tomorrow I have a pretty stressful day ahead o...   \n",
       "1  [This posting](http://www.reddit.com/r/Frugal/...   \n",
       "2  Hello. This is my first time on this subreddit...   \n",
       "3  I'm in my freshman year of college. I moved ou...   \n",
       "4  (Tennessee USA) It is a day to celebrate after...   \n",
       "\n",
       "                                       request_title  ...  \\\n",
       "0           [REQUEST] Dallas TX: Super Stressful Day  ...   \n",
       "1  [REQUEST] Pizza for /r/frugal redditor katehaw...  ...   \n",
       "2  [Request] Would enjoy some pizza. Have nothing...  ...   \n",
       "3     [Request] Jobless college kid wants some pizza  ...   \n",
       "4  [Request] US Married couple in between jobs wo...  ...   \n",
       "\n",
       "   requester_upvotes_minus_downvotes_at_request  \\\n",
       "0                                          2384   \n",
       "1                                           819   \n",
       "2                                         17042   \n",
       "3                                          2804   \n",
       "4                                           521   \n",
       "\n",
       "   requester_upvotes_minus_downvotes_at_retrieval  \\\n",
       "0                                            5429   \n",
       "1                                           36514   \n",
       "2                                           23171   \n",
       "3                                            3058   \n",
       "4                                             555   \n",
       "\n",
       "   requester_upvotes_plus_downvotes_at_request  \\\n",
       "0                                         4068   \n",
       "1                                         1189   \n",
       "2                                        66866   \n",
       "3                                         4246   \n",
       "4                                          865   \n",
       "\n",
       "   requester_upvotes_plus_downvotes_at_retrieval  requester_user_flair  \\\n",
       "0                                           8561                  None   \n",
       "1                                          72756                  None   \n",
       "2                                          79055                shroom   \n",
       "3                                           4794                  None   \n",
       "4                                            921                shroom   \n",
       "\n",
       "     requester_username  unix_timestamp_of_request  \\\n",
       "0         proFRESHional               1.343642e+09   \n",
       "1  DodongoDislikesSmoke               1.309193e+09   \n",
       "2           stormclaw11               1.375212e+09   \n",
       "3          Bearjewbacca               1.377631e+09   \n",
       "4               lexifus               1.363303e+09   \n",
       "\n",
       "   unix_timestamp_of_request_utc  upvotes_minus_downvotes  \\\n",
       "0                   1.343639e+09                        1   \n",
       "1                   1.309189e+09                        6   \n",
       "2                   1.375209e+09                        8   \n",
       "3                   1.377627e+09                        0   \n",
       "4                   1.363300e+09                        0   \n",
       "\n",
       "                                  final_request_text  \n",
       "0  [REQUEST] Dallas TX: Super Stressful Day Tomor...  \n",
       "1  [REQUEST] Pizza for /r/frugal redditor katehaw...  \n",
       "2  [Request] Would enjoy some pizza. Have nothing...  \n",
       "3  [Request] Jobless college kid wants some pizza...  \n",
       "4  [Request] US Married couple in between jobs wo...  \n",
       "\n",
       "[5 rows x 35 columns]"
      ]
     },
     "execution_count": 10,
     "metadata": {},
     "output_type": "execute_result"
    }
   ],
   "source": [
    "df = pd.json_normalize(data)\n",
    "df['requester_received_pizza'] = df['requester_received_pizza'].astype(int)\n",
    "df = df.sample(frac=1).reset_index(drop=True)\n",
    "df.head()"
   ]
  },
  {
   "cell_type": "code",
   "execution_count": 11,
   "id": "bb52904b",
   "metadata": {},
   "outputs": [
    {
     "data": {
      "text/plain": [
       "0"
      ]
     },
     "execution_count": 11,
     "metadata": {},
     "output_type": "execute_result"
    }
   ],
   "source": [
    "df['requester_received_pizza'].isna().sum()"
   ]
  },
  {
   "cell_type": "code",
   "execution_count": 12,
   "id": "ce7bd66f",
   "metadata": {},
   "outputs": [],
   "source": [
    "# text preprocessing\n",
    "stopwords_eng = stopwords.words('english')\n",
    "lemmatizer = WordNetLemmatizer()\n",
    "\n",
    "def process_text(text):\n",
    "    text = text.replace(\"\\n\",\" \").replace(\"\\r\",\" \")\n",
    "    text = re.sub(r'“', \" '' \", text)\n",
    "    text = re.sub(r'”', \" '' \", text)\n",
    "    text = re.sub(r'\"', \" '' \", text)\n",
    "    text = re.sub(r'(\\S)(\\'\\')', r'\\1 \\2 ', text)\n",
    "    text = re.sub(r\"n\\'t\", \" not\", text)\n",
    "    text = re.sub(r\"\\'re\", \" are\", text)\n",
    "    text = re.sub(r\"\\'s\", \" is\", text)\n",
    "    text = re.sub(r\"\\'d\", \" would\", text)\n",
    "    text = re.sub(r\"\\'ll\", \" will\", text)\n",
    "    text = re.sub(r\"\\'t\", \" not\", text)\n",
    "    text = re.sub(r\"\\'ve\", \" have\", text)\n",
    "    text = re.sub(r\"\\'m\", \" am\", text)\n",
    "    \n",
    "    punc_list = '!\"#$%()*+,-./:;<=>?@^_{|}~[]'\n",
    "    t = str.maketrans(dict.fromkeys(punc_list,\" \"))\n",
    "    text = text.translate(t)\n",
    "    \n",
    "    t = str.maketrans(dict.fromkeys(\"'`\",\"\"))\n",
    "    text = text.translate(t)\n",
    "    \n",
    "    text = text.lower()\n",
    "    \n",
    "    tokens = regexp_tokenize(text,pattern='\\s+',gaps=True)\n",
    "    cleaned_tokens = []\n",
    "    \n",
    "    for t in tokens:\n",
    "        if t not in stopwords_eng:\n",
    "            l = lemmatizer.lemmatize(t)\n",
    "            cleaned_tokens.append(l)\n",
    "    \n",
    "    return cleaned_tokens"
   ]
  },
  {
   "cell_type": "code",
   "execution_count": 13,
   "id": "a9ac2882",
   "metadata": {
    "scrolled": true
   },
   "outputs": [
    {
     "data": {
      "text/plain": [
       "['request',\n",
       " 'dallas',\n",
       " 'tx',\n",
       " 'super',\n",
       " 'stressful',\n",
       " 'day',\n",
       " 'tomorrow',\n",
       " 'pretty',\n",
       " 'stressful',\n",
       " 'day',\n",
       " 'ahead',\n",
       " 'got',\n",
       " 'ton',\n",
       " 'calling',\n",
       " 'mailing',\n",
       " 'application',\n",
       " 'filling',\n",
       " 'order',\n",
       " 'drop',\n",
       " 'one',\n",
       " 'school',\n",
       " 'enroll',\n",
       " 'another',\n",
       " 'pretty',\n",
       " 'terrible',\n",
       " 'handling',\n",
       " 'stress',\n",
       " 'pizza',\n",
       " 'would',\n",
       " 'perfect',\n",
       " 'way',\n",
       " 'unwind',\n",
       " 'big',\n",
       " '3',\n",
       " 'would',\n",
       " 'fine',\n",
       " 'pizza',\n",
       " 'hut',\n",
       " 'favorite']"
      ]
     },
     "execution_count": 13,
     "metadata": {},
     "output_type": "execute_result"
    }
   ],
   "source": [
    "process_text(df['final_request_text'][0])"
   ]
  },
  {
   "cell_type": "code",
   "execution_count": 14,
   "id": "604beb37",
   "metadata": {},
   "outputs": [
    {
     "data": {
      "text/html": [
       "<div>\n",
       "<style scoped>\n",
       "    .dataframe tbody tr th:only-of-type {\n",
       "        vertical-align: middle;\n",
       "    }\n",
       "\n",
       "    .dataframe tbody tr th {\n",
       "        vertical-align: top;\n",
       "    }\n",
       "\n",
       "    .dataframe thead th {\n",
       "        text-align: right;\n",
       "    }\n",
       "</style>\n",
       "<table border=\"1\" class=\"dataframe\">\n",
       "  <thead>\n",
       "    <tr style=\"text-align: right;\">\n",
       "      <th></th>\n",
       "      <th>final_request_text</th>\n",
       "      <th>requester_received_pizza</th>\n",
       "    </tr>\n",
       "  </thead>\n",
       "  <tbody>\n",
       "    <tr>\n",
       "      <th>0</th>\n",
       "      <td>[REQUEST] Dallas TX: Super Stressful Day Tomor...</td>\n",
       "      <td>0</td>\n",
       "    </tr>\n",
       "    <tr>\n",
       "      <th>1</th>\n",
       "      <td>[REQUEST] Pizza for /r/frugal redditor katehaw...</td>\n",
       "      <td>0</td>\n",
       "    </tr>\n",
       "    <tr>\n",
       "      <th>2</th>\n",
       "      <td>[Request] Would enjoy some pizza. Have nothing...</td>\n",
       "      <td>1</td>\n",
       "    </tr>\n",
       "    <tr>\n",
       "      <th>3</th>\n",
       "      <td>[Request] Jobless college kid wants some pizza...</td>\n",
       "      <td>0</td>\n",
       "    </tr>\n",
       "    <tr>\n",
       "      <th>4</th>\n",
       "      <td>[Request] US Married couple in between jobs wo...</td>\n",
       "      <td>1</td>\n",
       "    </tr>\n",
       "    <tr>\n",
       "      <th>5</th>\n",
       "      <td>[REQUEST] Long story short... I'm hungry.\\n\\nA...</td>\n",
       "      <td>0</td>\n",
       "    </tr>\n",
       "    <tr>\n",
       "      <th>6</th>\n",
       "      <td>[Request] Home from work and tired in Henderso...</td>\n",
       "      <td>0</td>\n",
       "    </tr>\n",
       "    <tr>\n",
       "      <th>7</th>\n",
       "      <td>[REQUEST] Moving Military Redditor around McMi...</td>\n",
       "      <td>0</td>\n",
       "    </tr>\n",
       "    <tr>\n",
       "      <th>8</th>\n",
       "      <td>[Request] Putting a request in for a hungry fr...</td>\n",
       "      <td>0</td>\n",
       "    </tr>\n",
       "    <tr>\n",
       "      <th>9</th>\n",
       "      <td>[Request] The picture enclosed speaks for itse...</td>\n",
       "      <td>1</td>\n",
       "    </tr>\n",
       "  </tbody>\n",
       "</table>\n",
       "</div>"
      ],
      "text/plain": [
       "                                  final_request_text  requester_received_pizza\n",
       "0  [REQUEST] Dallas TX: Super Stressful Day Tomor...                         0\n",
       "1  [REQUEST] Pizza for /r/frugal redditor katehaw...                         0\n",
       "2  [Request] Would enjoy some pizza. Have nothing...                         1\n",
       "3  [Request] Jobless college kid wants some pizza...                         0\n",
       "4  [Request] US Married couple in between jobs wo...                         1\n",
       "5  [REQUEST] Long story short... I'm hungry.\\n\\nA...                         0\n",
       "6  [Request] Home from work and tired in Henderso...                         0\n",
       "7  [REQUEST] Moving Military Redditor around McMi...                         0\n",
       "8  [Request] Putting a request in for a hungry fr...                         0\n",
       "9  [Request] The picture enclosed speaks for itse...                         1"
      ]
     },
     "execution_count": 14,
     "metadata": {},
     "output_type": "execute_result"
    }
   ],
   "source": [
    "text_data = df[['final_request_text','requester_received_pizza']]\n",
    "text_data.head(10)"
   ]
  },
  {
   "cell_type": "code",
   "execution_count": 15,
   "id": "d2e88084",
   "metadata": {},
   "outputs": [
    {
     "name": "stdout",
     "output_type": "stream",
     "text": [
      "(5671, 14297)\n"
     ]
    }
   ],
   "source": [
    "count_vec = CountVectorizer(analyzer = process_text)\n",
    "count_df = count_vec.fit_transform(text_data['final_request_text'])\n",
    "count_labels = text_data['requester_received_pizza']\n",
    "\n",
    "print(count_df.shape)\n",
    "\n",
    "# count_df vs count_labels [different models]"
   ]
  },
  {
   "cell_type": "code",
   "execution_count": 16,
   "id": "67ebfafa",
   "metadata": {},
   "outputs": [
    {
     "data": {
      "text/plain": [
       "(1, 14297)"
      ]
     },
     "execution_count": 16,
     "metadata": {},
     "output_type": "execute_result"
    }
   ],
   "source": [
    "count_df[0].shape"
   ]
  },
  {
   "cell_type": "code",
   "execution_count": 17,
   "id": "19bb51da",
   "metadata": {},
   "outputs": [
    {
     "name": "stdout",
     "output_type": "stream",
     "text": [
      "[0.24276252 0.2494451  0.23911258 0.23784173 0.2431374  0.22921651\n",
      " 0.23809087 0.26303427 0.23769644 0.23736114 0.24856683 0.23239975\n",
      " 0.23116377 0.24472098 0.23483663 0.23842863 0.26410833 0.23976182\n",
      " 0.25154147 0.24783341]\n",
      "0     0\n",
      "1     0\n",
      "2     1\n",
      "3     0\n",
      "4     1\n",
      "5     0\n",
      "6     0\n",
      "7     0\n",
      "8     0\n",
      "9     1\n",
      "10    0\n",
      "11    0\n",
      "12    0\n",
      "13    0\n",
      "14    0\n",
      "15    0\n",
      "16    1\n",
      "17    0\n",
      "18    0\n",
      "19    0\n",
      "Name: requester_received_pizza, dtype: int64\n"
     ]
    }
   ],
   "source": [
    "count_model = LogisticRegressionCV(cv = 5, random_state = 0).fit(count_df, count_labels)\n",
    "print(count_model.predict_proba(count_df)[:20][:,1])\n",
    "print(count_labels[:20])"
   ]
  },
  {
   "cell_type": "code",
   "execution_count": 18,
   "id": "349eb3fc",
   "metadata": {},
   "outputs": [
    {
     "name": "stdout",
     "output_type": "stream",
     "text": [
      "(5671, 14297)\n"
     ]
    }
   ],
   "source": [
    "tfidf_vec = TfidfVectorizer(analyzer = process_text)\n",
    "tfidf_df = tfidf_vec.fit_transform(text_data['final_request_text'])\n",
    "tfidf_labels = text_data['requester_received_pizza']\n",
    "\n",
    "print(tfidf_df.shape)\n",
    "\n",
    "# tfidf_df vs tfidf_labels [different models]"
   ]
  },
  {
   "cell_type": "code",
   "execution_count": 19,
   "id": "7625efda",
   "metadata": {},
   "outputs": [
    {
     "data": {
      "text/plain": [
       "(1, 14297)"
      ]
     },
     "execution_count": 19,
     "metadata": {},
     "output_type": "execute_result"
    }
   ],
   "source": [
    "tfidf_df[0].shape"
   ]
  },
  {
   "cell_type": "code",
   "execution_count": 20,
   "id": "45e7dcbe",
   "metadata": {},
   "outputs": [
    {
     "name": "stdout",
     "output_type": "stream",
     "text": [
      "[0.23053032 0.29220888 0.20560304 0.1620422  0.32422858 0.15605429\n",
      " 0.19482602 0.33554699 0.16594349 0.25240575 0.26047564 0.25225903\n",
      " 0.13439624 0.25918898 0.21964048 0.20973629 0.38936879 0.25422266\n",
      " 0.29111342 0.24631789]\n",
      "0     0\n",
      "1     0\n",
      "2     1\n",
      "3     0\n",
      "4     1\n",
      "5     0\n",
      "6     0\n",
      "7     0\n",
      "8     0\n",
      "9     1\n",
      "10    0\n",
      "11    0\n",
      "12    0\n",
      "13    0\n",
      "14    0\n",
      "15    0\n",
      "16    1\n",
      "17    0\n",
      "18    0\n",
      "19    0\n",
      "Name: requester_received_pizza, dtype: int64\n"
     ]
    }
   ],
   "source": [
    "tfidf_model = LogisticRegressionCV(cv = 5, random_state = 0).fit(tfidf_df, tfidf_labels)\n",
    "print(tfidf_model.predict_proba(tfidf_df)[:20][:,1])\n",
    "print(tfidf_labels[:20])"
   ]
  },
  {
   "cell_type": "raw",
   "id": "84dbfba7",
   "metadata": {},
   "source": [
    "model = KeyedVectors.load_word2vec_format(\"/Users/siddhantthakur/pizza req/GoogleNews-vectors-negative300.bin\", limit = 10**6,binary=True)\n",
    "\n",
    "def get_vec(word):\n",
    "    try:\n",
    "        return model[word]\n",
    "    except:\n",
    "        return np.zeros(300)\n",
    "    \n",
    "def get_sent_vec(sent):\n",
    "    tokens = process_text(sent)\n",
    "    vector = sum([get_vec(t) for t in tokens])\n",
    "    \n",
    "    return vector\n",
    "    \n",
    "word2vec_df = pd.DataFrame(columns = ['emb_vec','emb_label'])\n",
    "word2vec_df['emb_vec'] = text_data.apply(lambda r: get_sent_vec(r['final_request_text']), axis=1)\n",
    "word2vec_df['emb_label'] = text_data['requester_received_pizza']\n",
    "word2vec_df\n",
    "\n",
    "word2vec_model = LogisticRegressionCV(cv = 5, random_state = 0).fit(word2vec_df['emb_vec'], word2vec_df['emb_label'])\n",
    "print(word2vec_model.predict_proba(word2vec_df['emb_vec'])[:10][:,1])\n",
    "print(word2vec_labels[:10])"
   ]
  },
  {
   "cell_type": "code",
   "execution_count": 21,
   "id": "46ca4262",
   "metadata": {},
   "outputs": [],
   "source": [
    "sbert_model = SentenceTransformer('bert-base-nli-mean-tokens')"
   ]
  },
  {
   "cell_type": "code",
   "execution_count": 22,
   "id": "58367d82",
   "metadata": {},
   "outputs": [],
   "source": [
    "sen_emb = sbert_model.encode(text_data['final_request_text'])"
   ]
  },
  {
   "cell_type": "code",
   "execution_count": 23,
   "id": "c08343cb",
   "metadata": {},
   "outputs": [
    {
     "data": {
      "text/plain": [
       "(5671, 768)"
      ]
     },
     "execution_count": 23,
     "metadata": {},
     "output_type": "execute_result"
    }
   ],
   "source": [
    "sen_emb.shape"
   ]
  },
  {
   "cell_type": "code",
   "execution_count": 24,
   "id": "ab51d71b",
   "metadata": {},
   "outputs": [],
   "source": [
    "sen_labels = text_data['requester_received_pizza']"
   ]
  },
  {
   "cell_type": "code",
   "execution_count": 25,
   "id": "7552cb3e",
   "metadata": {},
   "outputs": [
    {
     "name": "stdout",
     "output_type": "stream",
     "text": [
      "[0.24804194 0.2516833  0.20742001 0.12464743 0.23694377 0.07073194\n",
      " 0.21759187 0.33891045 0.13239403 0.21695439 0.29797116 0.08842239\n",
      " 0.19385239 0.23497154 0.20264666 0.31392705 0.37917946 0.24163655\n",
      " 0.30310071 0.20466738]\n",
      "0     0\n",
      "1     0\n",
      "2     1\n",
      "3     0\n",
      "4     1\n",
      "5     0\n",
      "6     0\n",
      "7     0\n",
      "8     0\n",
      "9     1\n",
      "10    0\n",
      "11    0\n",
      "12    0\n",
      "13    0\n",
      "14    0\n",
      "15    0\n",
      "16    1\n",
      "17    0\n",
      "18    0\n",
      "19    0\n",
      "Name: requester_received_pizza, dtype: int64\n"
     ]
    }
   ],
   "source": [
    "sen2vec_model = LogisticRegressionCV(cv = 5, random_state = 0).fit(sen_emb, sen_labels)\n",
    "print(sen2vec_model.predict_proba(sen_emb)[:20][:,1])\n",
    "print(sen_labels[:20])"
   ]
  },
  {
   "cell_type": "code",
   "execution_count": 26,
   "id": "aaebee2c",
   "metadata": {},
   "outputs": [],
   "source": [
    "est_proba = sen2vec_model.predict_proba(sen_emb)[:,1]"
   ]
  },
  {
   "cell_type": "code",
   "execution_count": 27,
   "id": "7c0c5f43",
   "metadata": {
    "scrolled": true
   },
   "outputs": [
    {
     "data": {
      "text/plain": [
       "Index(['giver_username_if_known', 'in_test_set',\n",
       "       'number_of_downvotes_of_request_at_retrieval',\n",
       "       'number_of_upvotes_of_request_at_retrieval', 'post_was_edited',\n",
       "       'request_id', 'request_number_of_comments_at_retrieval', 'request_text',\n",
       "       'request_text_edit_aware', 'request_title',\n",
       "       'requester_account_age_in_days_at_request',\n",
       "       'requester_account_age_in_days_at_retrieval',\n",
       "       'requester_days_since_first_post_on_raop_at_request',\n",
       "       'requester_days_since_first_post_on_raop_at_retrieval',\n",
       "       'requester_number_of_comments_at_request',\n",
       "       'requester_number_of_comments_at_retrieval',\n",
       "       'requester_number_of_comments_in_raop_at_request',\n",
       "       'requester_number_of_comments_in_raop_at_retrieval',\n",
       "       'requester_number_of_posts_at_request',\n",
       "       'requester_number_of_posts_at_retrieval',\n",
       "       'requester_number_of_posts_on_raop_at_request',\n",
       "       'requester_number_of_posts_on_raop_at_retrieval',\n",
       "       'requester_number_of_subreddits_at_request', 'requester_received_pizza',\n",
       "       'requester_subreddits_at_request',\n",
       "       'requester_upvotes_minus_downvotes_at_request',\n",
       "       'requester_upvotes_minus_downvotes_at_retrieval',\n",
       "       'requester_upvotes_plus_downvotes_at_request',\n",
       "       'requester_upvotes_plus_downvotes_at_retrieval', 'requester_user_flair',\n",
       "       'requester_username', 'unix_timestamp_of_request',\n",
       "       'unix_timestamp_of_request_utc', 'upvotes_minus_downvotes',\n",
       "       'final_request_text'],\n",
       "      dtype='object')"
      ]
     },
     "execution_count": 27,
     "metadata": {},
     "output_type": "execute_result"
    }
   ],
   "source": [
    "df.columns"
   ]
  },
  {
   "cell_type": "code",
   "execution_count": 28,
   "id": "5c2b0aa7",
   "metadata": {},
   "outputs": [
    {
     "data": {
      "text/html": [
       "<div>\n",
       "<style scoped>\n",
       "    .dataframe tbody tr th:only-of-type {\n",
       "        vertical-align: middle;\n",
       "    }\n",
       "\n",
       "    .dataframe tbody tr th {\n",
       "        vertical-align: top;\n",
       "    }\n",
       "\n",
       "    .dataframe thead th {\n",
       "        text-align: right;\n",
       "    }\n",
       "</style>\n",
       "<table border=\"1\" class=\"dataframe\">\n",
       "  <thead>\n",
       "    <tr style=\"text-align: right;\">\n",
       "      <th></th>\n",
       "      <th>upvotes_minus_downvotes</th>\n",
       "      <th>requester_account_age_in_days_at_request</th>\n",
       "      <th>request_number_of_comments_at_retrieval</th>\n",
       "      <th>length_of_text</th>\n",
       "      <th>prob_from_text</th>\n",
       "      <th>evidence_link</th>\n",
       "      <th>requester_received_pizza</th>\n",
       "    </tr>\n",
       "  </thead>\n",
       "  <tbody>\n",
       "    <tr>\n",
       "      <th>0</th>\n",
       "      <td>1</td>\n",
       "      <td>282.986250</td>\n",
       "      <td>0</td>\n",
       "      <td>100</td>\n",
       "      <td>0.106224</td>\n",
       "      <td>0</td>\n",
       "      <td>0</td>\n",
       "    </tr>\n",
       "    <tr>\n",
       "      <th>1</th>\n",
       "      <td>0</td>\n",
       "      <td>0.000000</td>\n",
       "      <td>2</td>\n",
       "      <td>452</td>\n",
       "      <td>0.393631</td>\n",
       "      <td>0</td>\n",
       "      <td>1</td>\n",
       "    </tr>\n",
       "    <tr>\n",
       "      <th>2</th>\n",
       "      <td>3</td>\n",
       "      <td>216.770104</td>\n",
       "      <td>9</td>\n",
       "      <td>2192</td>\n",
       "      <td>0.346171</td>\n",
       "      <td>0</td>\n",
       "      <td>1</td>\n",
       "    </tr>\n",
       "    <tr>\n",
       "      <th>3</th>\n",
       "      <td>-1</td>\n",
       "      <td>110.601157</td>\n",
       "      <td>0</td>\n",
       "      <td>111</td>\n",
       "      <td>0.086089</td>\n",
       "      <td>0</td>\n",
       "      <td>0</td>\n",
       "    </tr>\n",
       "    <tr>\n",
       "      <th>4</th>\n",
       "      <td>2</td>\n",
       "      <td>20.112870</td>\n",
       "      <td>0</td>\n",
       "      <td>983</td>\n",
       "      <td>0.235983</td>\n",
       "      <td>0</td>\n",
       "      <td>0</td>\n",
       "    </tr>\n",
       "    <tr>\n",
       "      <th>...</th>\n",
       "      <td>...</td>\n",
       "      <td>...</td>\n",
       "      <td>...</td>\n",
       "      <td>...</td>\n",
       "      <td>...</td>\n",
       "      <td>...</td>\n",
       "      <td>...</td>\n",
       "    </tr>\n",
       "    <tr>\n",
       "      <th>5666</th>\n",
       "      <td>4</td>\n",
       "      <td>0.000000</td>\n",
       "      <td>0</td>\n",
       "      <td>297</td>\n",
       "      <td>0.289006</td>\n",
       "      <td>0</td>\n",
       "      <td>0</td>\n",
       "    </tr>\n",
       "    <tr>\n",
       "      <th>5667</th>\n",
       "      <td>0</td>\n",
       "      <td>0.000000</td>\n",
       "      <td>1</td>\n",
       "      <td>932</td>\n",
       "      <td>0.419425</td>\n",
       "      <td>0</td>\n",
       "      <td>0</td>\n",
       "    </tr>\n",
       "    <tr>\n",
       "      <th>5668</th>\n",
       "      <td>0</td>\n",
       "      <td>116.267014</td>\n",
       "      <td>0</td>\n",
       "      <td>663</td>\n",
       "      <td>0.350244</td>\n",
       "      <td>0</td>\n",
       "      <td>0</td>\n",
       "    </tr>\n",
       "    <tr>\n",
       "      <th>5669</th>\n",
       "      <td>7</td>\n",
       "      <td>522.532500</td>\n",
       "      <td>0</td>\n",
       "      <td>185</td>\n",
       "      <td>0.208544</td>\n",
       "      <td>0</td>\n",
       "      <td>0</td>\n",
       "    </tr>\n",
       "    <tr>\n",
       "      <th>5670</th>\n",
       "      <td>1</td>\n",
       "      <td>0.000000</td>\n",
       "      <td>0</td>\n",
       "      <td>544</td>\n",
       "      <td>0.391553</td>\n",
       "      <td>0</td>\n",
       "      <td>0</td>\n",
       "    </tr>\n",
       "  </tbody>\n",
       "</table>\n",
       "<p>5671 rows × 7 columns</p>\n",
       "</div>"
      ],
      "text/plain": [
       "      upvotes_minus_downvotes  requester_account_age_in_days_at_request  \\\n",
       "0                           1                                282.986250   \n",
       "1                           0                                  0.000000   \n",
       "2                           3                                216.770104   \n",
       "3                          -1                                110.601157   \n",
       "4                           2                                 20.112870   \n",
       "...                       ...                                       ...   \n",
       "5666                        4                                  0.000000   \n",
       "5667                        0                                  0.000000   \n",
       "5668                        0                                116.267014   \n",
       "5669                        7                                522.532500   \n",
       "5670                        1                                  0.000000   \n",
       "\n",
       "      request_number_of_comments_at_retrieval  length_of_text  prob_from_text  \\\n",
       "0                                           0             100        0.106224   \n",
       "1                                           2             452        0.393631   \n",
       "2                                           9            2192        0.346171   \n",
       "3                                           0             111        0.086089   \n",
       "4                                           0             983        0.235983   \n",
       "...                                       ...             ...             ...   \n",
       "5666                                        0             297        0.289006   \n",
       "5667                                        1             932        0.419425   \n",
       "5668                                        0             663        0.350244   \n",
       "5669                                        0             185        0.208544   \n",
       "5670                                        0             544        0.391553   \n",
       "\n",
       "      evidence_link  requester_received_pizza  \n",
       "0                 0                         0  \n",
       "1                 0                         1  \n",
       "2                 0                         1  \n",
       "3                 0                         0  \n",
       "4                 0                         0  \n",
       "...             ...                       ...  \n",
       "5666              0                         0  \n",
       "5667              0                         0  \n",
       "5668              0                         0  \n",
       "5669              0                         0  \n",
       "5670              0                         0  \n",
       "\n",
       "[5671 rows x 7 columns]"
      ]
     },
     "execution_count": 28,
     "metadata": {},
     "output_type": "execute_result"
    }
   ],
   "source": [
    "final_model_df = df.loc[:,['upvotes_minus_downvotes','requester_account_age_in_days_at_request','request_number_of_comments_at_retrieval']]\n",
    "final_model_df['length_of_text'] = df.apply(lambda r: len(r['final_request_text']), axis = 1)\n",
    "final_model_df['prob_from_text'] = est_proba\n",
    "final_model_df['evidence_link'] = df.apply(lambda r: 1 if re.findall(r'(?:http\\:|https\\:)?\\/\\/.*\\.',r['final_request_text']) else 0, axis = 1)\n",
    "final_model_df['requester_received_pizza'] = df.loc[:,'requester_received_pizza']\n",
    "final_model_df = final_model_df.sample(frac=1).reset_index(drop=True)\n",
    "\n",
    "final_model_df"
   ]
  },
  {
   "cell_type": "code",
   "execution_count": 29,
   "id": "b3fd6b20",
   "metadata": {},
   "outputs": [
    {
     "data": {
      "text/plain": [
       "0    256\n",
       "1    141\n",
       "Name: requester_received_pizza, dtype: int64"
      ]
     },
     "execution_count": 29,
     "metadata": {},
     "output_type": "execute_result"
    }
   ],
   "source": [
    "final_model_df[final_model_df['evidence_link']==1]['requester_received_pizza'].value_counts()"
   ]
  },
  {
   "cell_type": "code",
   "execution_count": 30,
   "id": "a7ccd701",
   "metadata": {},
   "outputs": [],
   "source": [
    "x = final_model_df.loc[:,final_model_df.columns != 'requester_received_pizza']\n",
    "y = final_model_df['requester_received_pizza']\n",
    "x_train, x_test, y_train, y_test = train_test_split(x,y,test_size = 0.2)"
   ]
  },
  {
   "cell_type": "code",
   "execution_count": 31,
   "id": "84e7787a",
   "metadata": {},
   "outputs": [
    {
     "name": "stdout",
     "output_type": "stream",
     "text": [
      "(4536, 6)\n",
      "(4536,)\n",
      "(1135, 6)\n",
      "(1135,)\n"
     ]
    }
   ],
   "source": [
    "print(x_train.shape)\n",
    "print(y_train.shape)\n",
    "print(x_test.shape)\n",
    "print(y_test.shape)"
   ]
  },
  {
   "cell_type": "code",
   "execution_count": 32,
   "id": "0008f93b",
   "metadata": {},
   "outputs": [
    {
     "data": {
      "text/plain": [
       "0.7647577092511013"
      ]
     },
     "execution_count": 32,
     "metadata": {},
     "output_type": "execute_result"
    }
   ],
   "source": [
    "final_model = LogisticRegressionCV(cv=5, random_state=0)\n",
    "final_model.fit(x_train,y_train)\n",
    "final_model.score(x_test,y_test)"
   ]
  },
  {
   "cell_type": "code",
   "execution_count": 33,
   "id": "15e5b08d",
   "metadata": {},
   "outputs": [
    {
     "data": {
      "text/plain": [
       "['upvotes_minus_downvotes',\n",
       " 'requester_account_age_in_days_at_request',\n",
       " 'request_number_of_comments_at_retrieval',\n",
       " 'length_of_text',\n",
       " 'prob_from_text',\n",
       " 'evidence_link']"
      ]
     },
     "execution_count": 33,
     "metadata": {},
     "output_type": "execute_result"
    }
   ],
   "source": [
    "l = x_train.columns.values.tolist()\n",
    "l"
   ]
  },
  {
   "cell_type": "code",
   "execution_count": 34,
   "id": "630ddbb9",
   "metadata": {},
   "outputs": [
    {
     "name": "stdout",
     "output_type": "stream",
     "text": [
      "[-0.00661389  0.00060329  0.14702238  0.000159    5.58018197  0.28092484]\n"
     ]
    },
    {
     "data": {
      "image/png": "[encoded data removed]",
      "text/plain": [
       "<Figure size 864x360 with 1 Axes>"
      ]
     },
     "metadata": {
      "needs_background": "light"
     },
     "output_type": "display_data"
    }
   ],
   "source": [
    "# get importance\n",
    "# 0 -> upvotes_minus_downvotes\n",
    "# 1 -> requester_account_age_in_days_at_request\n",
    "# 2 -> request_number_of_comments_at_retrieval\n",
    "# 3 -> length_of_text\n",
    "# 4 -> prob_from_text\n",
    "# 5 -> evidence_link\n",
    "\n",
    "importance = final_model.coef_[0]\n",
    "\n",
    "print(importance)\n",
    "\n",
    "plt.figure(figsize = (12,5))\n",
    "plt.xticks(rotation=60)\n",
    "plt.bar([x for x in l], importance)\n",
    "plt.show()"
   ]
  },
  {
   "cell_type": "code",
   "execution_count": null,
   "id": "ea64ca4d",
   "metadata": {},
   "outputs": [],
   "source": []
  }
 ],
 "metadata": {
  "kernelspec": {
   "display_name": "Python 3 (ipykernel)",
   "language": "python",
   "name": "python3"
  },
  "language_info": {
   "codemirror_mode": {
    "name": "ipython",
    "version": 3
   },
   "file_extension": ".py",
   "mimetype": "text/x-python",
   "name": "python",
   "nbconvert_exporter": "python",
   "pygments_lexer": "ipython3",
   "version": "3.8.2"
  }
 },
 "nbformat": 4,
 "nbformat_minor": 5
}
